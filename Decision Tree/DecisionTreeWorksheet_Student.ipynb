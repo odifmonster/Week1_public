{
 "cells": [
  {
   "cell_type": "markdown",
   "metadata": {
    "colab_type": "text",
    "id": "-UimMCmGe19F"
   },
   "source": [
    "# Decision Tree Worksheet\n"
   ]
  },
  {
   "cell_type": "code",
   "execution_count": 25,
   "metadata": {
    "colab": {
     "autoexec": {
      "startup": false,
      "wait_interval": 0
     }
    },
    "colab_type": "code",
    "id": "kedW02LgKjVL"
   },
   "outputs": [
    {
     "name": "stdout",
     "output_type": "stream",
     "text": [
      "Requirement already satisfied: graphviz in /anaconda3/lib/python3.6/site-packages (0.8.4)\n",
      "/bin/sh: apt-get: command not found\n"
     ]
    }
   ],
   "source": [
    "import numpy as np\n",
    "import pandas as pd\n",
    "from sklearn.model_selection import train_test_split\n",
    "from sklearn.tree import DecisionTreeClassifier\n",
    "from sklearn.metrics import accuracy_score\n",
    "from sklearn import tree\n",
    "from sklearn.ensemble import RandomForestClassifier\n",
    "from sklearn import metrics\n",
    "!pip install graphviz\n",
    "import graphviz\n",
    "import matplotlib.pyplot as plt"
   ]
  },
  {
   "cell_type": "markdown",
   "metadata": {
    "colab_type": "text",
    "id": "rz35eT5-SMht"
   },
   "source": [
    "#### Load pima indians diabetes dataset below"
   ]
  },
  {
   "cell_type": "code",
   "execution_count": 2,
   "metadata": {
    "colab": {
     "autoexec": {
      "startup": false,
      "wait_interval": 0
     }
    },
    "colab_type": "code",
    "id": "Ydh9gmDkMGmu"
   },
   "outputs": [],
   "source": [
    "url = \"https://raw.githubusercontent.com/jbrownlee/Datasets/master/pima-indians-diabetes.data.csv\"\n",
    "names = ['preg', 'plas', 'pres', 'skin', 'test', 'mass', 'pedi', 'age', 'class']\n",
    "data_frame = pd.read_csv(url,names=names)"
   ]
  },
  {
   "cell_type": "markdown",
   "metadata": {
    "colab_type": "text",
    "id": "KAFhsJIsSpMR"
   },
   "source": [
    "#### create training and testing dataset with sklearn function: train_test_split"
   ]
  },
  {
   "cell_type": "code",
   "execution_count": 41,
   "metadata": {
    "colab": {
     "autoexec": {
      "startup": false,
      "wait_interval": 0
     }
    },
    "colab_type": "code",
    "id": "fHbA28aFS2DM"
   },
   "outputs": [],
   "source": [
    "# your code here\n",
    "X = data_frame.drop(['class'],axis=1)\n",
    "y = data_frame['class']\n",
    "\n",
    "X_train, X_test, y_train, y_test = train_test_split(X, y, test_size=0.25)\n",
    "X_train, X_val, y_train, y_val = train_test_split(X_train, y_train, test_size=0.2)"
   ]
  },
  {
   "cell_type": "markdown",
   "metadata": {
    "colab_type": "text",
    "id": "4_8DZinWTJRa"
   },
   "source": [
    "#### Create a model with sklearn's DecisionTreeClassifier and predict values on your test set"
   ]
  },
  {
   "cell_type": "code",
   "execution_count": 26,
   "metadata": {
    "colab": {
     "autoexec": {
      "startup": false,
      "wait_interval": 0
     }
    },
    "colab_type": "code",
    "id": "EgByCP_EhyB2"
   },
   "outputs": [
    {
     "data": {
      "text/plain": [
       "DecisionTreeClassifier(class_weight=None, criterion='gini', max_depth=4,\n",
       "            max_features=None, max_leaf_nodes=None,\n",
       "            min_impurity_decrease=0.0, min_impurity_split=None,\n",
       "            min_samples_leaf=1, min_samples_split=2,\n",
       "            min_weight_fraction_leaf=0.0, presort=False, random_state=0,\n",
       "            splitter='best')"
      ]
     },
     "execution_count": 26,
     "metadata": {},
     "output_type": "execute_result"
    }
   ],
   "source": [
    "# your code here\n",
    "model = DecisionTreeClassifier(max_depth=4,random_state=0)\n",
    "\n",
    "model.fit(X_train,y_train)"
   ]
  },
  {
   "cell_type": "markdown",
   "metadata": {
    "colab_type": "text",
    "id": "6HNa6fxbT6ak"
   },
   "source": [
    "#### Print the accuracy on the test data, play with the parameters and try to improve the accuracy\n",
    "hint: there is an sklearn to calculate accuracy"
   ]
  },
  {
   "cell_type": "code",
   "execution_count": 27,
   "metadata": {
    "colab": {
     "autoexec": {
      "startup": false,
      "wait_interval": 0
     },
     "base_uri": "https://localhost:8080/",
     "height": 17
    },
    "colab_type": "code",
    "executionInfo": {
     "elapsed": 287,
     "status": "ok",
     "timestamp": 1530627778885,
     "user": {
      "displayName": "john passarelli",
      "photoUrl": "https://lh3.googleusercontent.com/a/default-user=s128",
      "userId": "102241934905781120798"
     },
     "user_tz": 240
    },
    "id": "6Pbu-t_tiqnB",
    "outputId": "ef95b427-e6b4-41a7-f992-9826342b662c"
   },
   "outputs": [
    {
     "name": "stdout",
     "output_type": "stream",
     "text": [
      "Training Accuracy: 0.826\n",
      "Validation Accuracy: 0.707\n"
     ]
    }
   ],
   "source": [
    "# your code here\n",
    "y_train_predict = model.predict(X_train)\n",
    "y_val_predict = model.predict(X_val)\n",
    "\n",
    "print(\"Training Accuracy: {:01.3f}\".format(accuracy_score(y_train, y_train_predict)))\n",
    "print(\"Validation Accuracy: {:01.3f}\".format(accuracy_score(y_val, y_val_predict)))"
   ]
  },
  {
   "cell_type": "markdown",
   "metadata": {
    "colab_type": "text",
    "id": "tKdqOMBKUvGZ"
   },
   "source": [
    "#### Use graphviz to view the decision tree graph\n",
    "##### hint: want to look at a code example, see the Classification Evaluation notebook on github"
   ]
  },
  {
   "cell_type": "code",
   "execution_count": 31,
   "metadata": {
    "colab": {
     "autoexec": {
      "startup": false,
      "wait_interval": 0
     }
    },
    "colab_type": "code",
    "id": "8o55bY_jl8gj"
   },
   "outputs": [
    {
     "data": {
      "image/svg+xml": [
       "<?xml version=\"1.0\" encoding=\"UTF-8\" standalone=\"no\"?>\n",
       "<!DOCTYPE svg PUBLIC \"-//W3C//DTD SVG 1.1//EN\"\n",
       " \"http://www.w3.org/Graphics/SVG/1.1/DTD/svg11.dtd\">\n",
       "<!-- Generated by graphviz version 2.40.1 (20161225.0304)\n",
       " -->\n",
       "<!-- Title: Tree Pages: 1 -->\n",
       "<svg width=\"1799pt\" height=\"528pt\"\n",
       " viewBox=\"0.00 0.00 1798.89 528.00\" xmlns=\"http://www.w3.org/2000/svg\" xmlns:xlink=\"http://www.w3.org/1999/xlink\">\n",
       "<g id=\"graph0\" class=\"graph\" transform=\"scale(1 1) rotate(0) translate(4 524)\">\n",
       "<title>Tree</title>\n",
       "<polygon fill=\"#ffffff\" stroke=\"transparent\" points=\"-4,4 -4,-524 1794.8926,-524 1794.8926,4 -4,4\"/>\n",
       "<!-- 0 -->\n",
       "<g id=\"node1\" class=\"node\">\n",
       "<title>0</title>\n",
       "<path fill=\"#e58139\" fill-opacity=\"0.486275\" stroke=\"#000000\" d=\"M969.8389,-520C969.8389,-520 853.0537,-520 853.0537,-520 847.0537,-520 841.0537,-514 841.0537,-508 841.0537,-508 841.0537,-454 841.0537,-454 841.0537,-448 847.0537,-442 853.0537,-442 853.0537,-442 969.8389,-442 969.8389,-442 975.8389,-442 981.8389,-448 981.8389,-454 981.8389,-454 981.8389,-508 981.8389,-508 981.8389,-514 975.8389,-520 969.8389,-520\"/>\n",
       "<text text-anchor=\"middle\" x=\"911.4463\" y=\"-504.8\" font-family=\"Helvetica,sans-Serif\" font-size=\"14.00\" fill=\"#000000\">plas &lt;= 144.5</text>\n",
       "<text text-anchor=\"middle\" x=\"911.4463\" y=\"-490.8\" font-family=\"Helvetica,sans-Serif\" font-size=\"14.00\" fill=\"#000000\">gini = 0.448</text>\n",
       "<text text-anchor=\"middle\" x=\"911.4463\" y=\"-476.8\" font-family=\"Helvetica,sans-Serif\" font-size=\"14.00\" fill=\"#000000\">samples = 460</text>\n",
       "<text text-anchor=\"middle\" x=\"911.4463\" y=\"-462.8\" font-family=\"Helvetica,sans-Serif\" font-size=\"14.00\" fill=\"#000000\">value = [304, 156]</text>\n",
       "<text text-anchor=\"middle\" x=\"911.4463\" y=\"-448.8\" font-family=\"Helvetica,sans-Serif\" font-size=\"14.00\" fill=\"#000000\">class = No Diabetes</text>\n",
       "</g>\n",
       "<!-- 1 -->\n",
       "<g id=\"node2\" class=\"node\">\n",
       "<title>1</title>\n",
       "<path fill=\"#e58139\" fill-opacity=\"0.725490\" stroke=\"#000000\" d=\"M673.8389,-406C673.8389,-406 557.0537,-406 557.0537,-406 551.0537,-406 545.0537,-400 545.0537,-394 545.0537,-394 545.0537,-340 545.0537,-340 545.0537,-334 551.0537,-328 557.0537,-328 557.0537,-328 673.8389,-328 673.8389,-328 679.8389,-328 685.8389,-334 685.8389,-340 685.8389,-340 685.8389,-394 685.8389,-394 685.8389,-400 679.8389,-406 673.8389,-406\"/>\n",
       "<text text-anchor=\"middle\" x=\"615.4463\" y=\"-390.8\" font-family=\"Helvetica,sans-Serif\" font-size=\"14.00\" fill=\"#000000\">mass &lt;= 26.95</text>\n",
       "<text text-anchor=\"middle\" x=\"615.4463\" y=\"-376.8\" font-family=\"Helvetica,sans-Serif\" font-size=\"14.00\" fill=\"#000000\">gini = 0.339</text>\n",
       "<text text-anchor=\"middle\" x=\"615.4463\" y=\"-362.8\" font-family=\"Helvetica,sans-Serif\" font-size=\"14.00\" fill=\"#000000\">samples = 352</text>\n",
       "<text text-anchor=\"middle\" x=\"615.4463\" y=\"-348.8\" font-family=\"Helvetica,sans-Serif\" font-size=\"14.00\" fill=\"#000000\">value = [276, 76]</text>\n",
       "<text text-anchor=\"middle\" x=\"615.4463\" y=\"-334.8\" font-family=\"Helvetica,sans-Serif\" font-size=\"14.00\" fill=\"#000000\">class = No Diabetes</text>\n",
       "</g>\n",
       "<!-- 0&#45;&gt;1 -->\n",
       "<g id=\"edge1\" class=\"edge\">\n",
       "<title>0&#45;&gt;1</title>\n",
       "<path fill=\"none\" stroke=\"#000000\" d=\"M840.923,-453.839C797.181,-436.9924 740.8645,-415.3029 695.4571,-397.815\"/>\n",
       "<polygon fill=\"#000000\" stroke=\"#000000\" points=\"696.5315,-394.4782 685.9417,-394.1503 694.0156,-401.0105 696.5315,-394.4782\"/>\n",
       "<text text-anchor=\"middle\" x=\"696.0848\" y=\"-412.8001\" font-family=\"Helvetica,sans-Serif\" font-size=\"14.00\" fill=\"#000000\">True</text>\n",
       "</g>\n",
       "<!-- 14 -->\n",
       "<g id=\"node15\" class=\"node\">\n",
       "<title>14</title>\n",
       "<path fill=\"#399de5\" fill-opacity=\"0.650980\" stroke=\"#000000\" d=\"M1255.0528,-406C1255.0528,-406 1159.8398,-406 1159.8398,-406 1153.8398,-406 1147.8398,-400 1147.8398,-394 1147.8398,-394 1147.8398,-340 1147.8398,-340 1147.8398,-334 1153.8398,-328 1159.8398,-328 1159.8398,-328 1255.0528,-328 1255.0528,-328 1261.0528,-328 1267.0528,-334 1267.0528,-340 1267.0528,-340 1267.0528,-394 1267.0528,-394 1267.0528,-400 1261.0528,-406 1255.0528,-406\"/>\n",
       "<text text-anchor=\"middle\" x=\"1207.4463\" y=\"-390.8\" font-family=\"Helvetica,sans-Serif\" font-size=\"14.00\" fill=\"#000000\">pedi &lt;= 0.315</text>\n",
       "<text text-anchor=\"middle\" x=\"1207.4463\" y=\"-376.8\" font-family=\"Helvetica,sans-Serif\" font-size=\"14.00\" fill=\"#000000\">gini = 0.384</text>\n",
       "<text text-anchor=\"middle\" x=\"1207.4463\" y=\"-362.8\" font-family=\"Helvetica,sans-Serif\" font-size=\"14.00\" fill=\"#000000\">samples = 108</text>\n",
       "<text text-anchor=\"middle\" x=\"1207.4463\" y=\"-348.8\" font-family=\"Helvetica,sans-Serif\" font-size=\"14.00\" fill=\"#000000\">value = [28, 80]</text>\n",
       "<text text-anchor=\"middle\" x=\"1207.4463\" y=\"-334.8\" font-family=\"Helvetica,sans-Serif\" font-size=\"14.00\" fill=\"#000000\">class = Diabetes</text>\n",
       "</g>\n",
       "<!-- 0&#45;&gt;14 -->\n",
       "<g id=\"edge14\" class=\"edge\">\n",
       "<title>0&#45;&gt;14</title>\n",
       "<path fill=\"none\" stroke=\"#000000\" d=\"M981.9696,-453.839C1029.1626,-435.6633 1090.9925,-411.8504 1137.9674,-393.7588\"/>\n",
       "<polygon fill=\"#000000\" stroke=\"#000000\" points=\"1139.3811,-396.965 1147.4551,-390.1047 1136.8653,-390.4327 1139.3811,-396.965\"/>\n",
       "<text text-anchor=\"middle\" x=\"1137.3119\" y=\"-408.7546\" font-family=\"Helvetica,sans-Serif\" font-size=\"14.00\" fill=\"#000000\">False</text>\n",
       "</g>\n",
       "<!-- 2 -->\n",
       "<g id=\"node3\" class=\"node\">\n",
       "<title>2</title>\n",
       "<path fill=\"#e58139\" fill-opacity=\"0.988235\" stroke=\"#000000\" d=\"M287.8389,-292C287.8389,-292 171.0537,-292 171.0537,-292 165.0537,-292 159.0537,-286 159.0537,-280 159.0537,-280 159.0537,-226 159.0537,-226 159.0537,-220 165.0537,-214 171.0537,-214 171.0537,-214 287.8389,-214 287.8389,-214 293.8389,-214 299.8389,-220 299.8389,-226 299.8389,-226 299.8389,-280 299.8389,-280 299.8389,-286 293.8389,-292 287.8389,-292\"/>\n",
       "<text text-anchor=\"middle\" x=\"229.4463\" y=\"-276.8\" font-family=\"Helvetica,sans-Serif\" font-size=\"14.00\" fill=\"#000000\">pres &lt;= 94.0</text>\n",
       "<text text-anchor=\"middle\" x=\"229.4463\" y=\"-262.8\" font-family=\"Helvetica,sans-Serif\" font-size=\"14.00\" fill=\"#000000\">gini = 0.021</text>\n",
       "<text text-anchor=\"middle\" x=\"229.4463\" y=\"-248.8\" font-family=\"Helvetica,sans-Serif\" font-size=\"14.00\" fill=\"#000000\">samples = 95</text>\n",
       "<text text-anchor=\"middle\" x=\"229.4463\" y=\"-234.8\" font-family=\"Helvetica,sans-Serif\" font-size=\"14.00\" fill=\"#000000\">value = [94, 1]</text>\n",
       "<text text-anchor=\"middle\" x=\"229.4463\" y=\"-220.8\" font-family=\"Helvetica,sans-Serif\" font-size=\"14.00\" fill=\"#000000\">class = No Diabetes</text>\n",
       "</g>\n",
       "<!-- 1&#45;&gt;2 -->\n",
       "<g id=\"edge2\" class=\"edge\">\n",
       "<title>1&#45;&gt;2</title>\n",
       "<path fill=\"none\" stroke=\"#000000\" d=\"M544.6479,-346.0906C478.3695,-326.5162 379.4284,-297.2952 310.1245,-276.8272\"/>\n",
       "<polygon fill=\"#000000\" stroke=\"#000000\" points=\"310.7037,-273.3489 300.1218,-273.8731 308.7209,-280.0622 310.7037,-273.3489\"/>\n",
       "</g>\n",
       "<!-- 7 -->\n",
       "<g id=\"node8\" class=\"node\">\n",
       "<title>7</title>\n",
       "<path fill=\"#e58139\" fill-opacity=\"0.588235\" stroke=\"#000000\" d=\"M673.8389,-292C673.8389,-292 557.0537,-292 557.0537,-292 551.0537,-292 545.0537,-286 545.0537,-280 545.0537,-280 545.0537,-226 545.0537,-226 545.0537,-220 551.0537,-214 557.0537,-214 557.0537,-214 673.8389,-214 673.8389,-214 679.8389,-214 685.8389,-220 685.8389,-226 685.8389,-226 685.8389,-280 685.8389,-280 685.8389,-286 679.8389,-292 673.8389,-292\"/>\n",
       "<text text-anchor=\"middle\" x=\"615.4463\" y=\"-276.8\" font-family=\"Helvetica,sans-Serif\" font-size=\"14.00\" fill=\"#000000\">age &lt;= 24.5</text>\n",
       "<text text-anchor=\"middle\" x=\"615.4463\" y=\"-262.8\" font-family=\"Helvetica,sans-Serif\" font-size=\"14.00\" fill=\"#000000\">gini = 0.413</text>\n",
       "<text text-anchor=\"middle\" x=\"615.4463\" y=\"-248.8\" font-family=\"Helvetica,sans-Serif\" font-size=\"14.00\" fill=\"#000000\">samples = 257</text>\n",
       "<text text-anchor=\"middle\" x=\"615.4463\" y=\"-234.8\" font-family=\"Helvetica,sans-Serif\" font-size=\"14.00\" fill=\"#000000\">value = [182, 75]</text>\n",
       "<text text-anchor=\"middle\" x=\"615.4463\" y=\"-220.8\" font-family=\"Helvetica,sans-Serif\" font-size=\"14.00\" fill=\"#000000\">class = No Diabetes</text>\n",
       "</g>\n",
       "<!-- 1&#45;&gt;7 -->\n",
       "<g id=\"edge7\" class=\"edge\">\n",
       "<title>1&#45;&gt;7</title>\n",
       "<path fill=\"none\" stroke=\"#000000\" d=\"M615.4463,-327.7677C615.4463,-319.6172 615.4463,-310.9283 615.4463,-302.4649\"/>\n",
       "<polygon fill=\"#000000\" stroke=\"#000000\" points=\"618.9464,-302.3046 615.4463,-292.3046 611.9464,-302.3047 618.9464,-302.3046\"/>\n",
       "</g>\n",
       "<!-- 3 -->\n",
       "<g id=\"node4\" class=\"node\">\n",
       "<title>3</title>\n",
       "<path fill=\"#e58139\" stroke=\"#000000\" d=\"M128.8389,-171C128.8389,-171 12.0537,-171 12.0537,-171 6.0537,-171 .0537,-165 .0537,-159 .0537,-159 .0537,-119 .0537,-119 .0537,-113 6.0537,-107 12.0537,-107 12.0537,-107 128.8389,-107 128.8389,-107 134.8389,-107 140.8389,-113 140.8389,-119 140.8389,-119 140.8389,-159 140.8389,-159 140.8389,-165 134.8389,-171 128.8389,-171\"/>\n",
       "<text text-anchor=\"middle\" x=\"70.4463\" y=\"-155.8\" font-family=\"Helvetica,sans-Serif\" font-size=\"14.00\" fill=\"#000000\">gini = 0.0</text>\n",
       "<text text-anchor=\"middle\" x=\"70.4463\" y=\"-141.8\" font-family=\"Helvetica,sans-Serif\" font-size=\"14.00\" fill=\"#000000\">samples = 90</text>\n",
       "<text text-anchor=\"middle\" x=\"70.4463\" y=\"-127.8\" font-family=\"Helvetica,sans-Serif\" font-size=\"14.00\" fill=\"#000000\">value = [90, 0]</text>\n",
       "<text text-anchor=\"middle\" x=\"70.4463\" y=\"-113.8\" font-family=\"Helvetica,sans-Serif\" font-size=\"14.00\" fill=\"#000000\">class = No Diabetes</text>\n",
       "</g>\n",
       "<!-- 2&#45;&gt;3 -->\n",
       "<g id=\"edge3\" class=\"edge\">\n",
       "<title>2&#45;&gt;3</title>\n",
       "<path fill=\"none\" stroke=\"#000000\" d=\"M174.7275,-213.7677C158.2044,-201.9209 140.0944,-188.9364 123.6703,-177.1606\"/>\n",
       "<polygon fill=\"#000000\" stroke=\"#000000\" points=\"125.4189,-174.1077 115.2525,-171.1252 121.34,-179.7966 125.4189,-174.1077\"/>\n",
       "</g>\n",
       "<!-- 4 -->\n",
       "<g id=\"node5\" class=\"node\">\n",
       "<title>4</title>\n",
       "<path fill=\"#e58139\" fill-opacity=\"0.749020\" stroke=\"#000000\" d=\"M287.8389,-178C287.8389,-178 171.0537,-178 171.0537,-178 165.0537,-178 159.0537,-172 159.0537,-166 159.0537,-166 159.0537,-112 159.0537,-112 159.0537,-106 165.0537,-100 171.0537,-100 171.0537,-100 287.8389,-100 287.8389,-100 293.8389,-100 299.8389,-106 299.8389,-112 299.8389,-112 299.8389,-166 299.8389,-166 299.8389,-172 293.8389,-178 287.8389,-178\"/>\n",
       "<text text-anchor=\"middle\" x=\"229.4463\" y=\"-162.8\" font-family=\"Helvetica,sans-Serif\" font-size=\"14.00\" fill=\"#000000\">age &lt;= 44.0</text>\n",
       "<text text-anchor=\"middle\" x=\"229.4463\" y=\"-148.8\" font-family=\"Helvetica,sans-Serif\" font-size=\"14.00\" fill=\"#000000\">gini = 0.32</text>\n",
       "<text text-anchor=\"middle\" x=\"229.4463\" y=\"-134.8\" font-family=\"Helvetica,sans-Serif\" font-size=\"14.00\" fill=\"#000000\">samples = 5</text>\n",
       "<text text-anchor=\"middle\" x=\"229.4463\" y=\"-120.8\" font-family=\"Helvetica,sans-Serif\" font-size=\"14.00\" fill=\"#000000\">value = [4, 1]</text>\n",
       "<text text-anchor=\"middle\" x=\"229.4463\" y=\"-106.8\" font-family=\"Helvetica,sans-Serif\" font-size=\"14.00\" fill=\"#000000\">class = No Diabetes</text>\n",
       "</g>\n",
       "<!-- 2&#45;&gt;4 -->\n",
       "<g id=\"edge4\" class=\"edge\">\n",
       "<title>2&#45;&gt;4</title>\n",
       "<path fill=\"none\" stroke=\"#000000\" d=\"M229.4463,-213.7677C229.4463,-205.6172 229.4463,-196.9283 229.4463,-188.4649\"/>\n",
       "<polygon fill=\"#000000\" stroke=\"#000000\" points=\"232.9464,-188.3046 229.4463,-178.3046 225.9464,-188.3047 232.9464,-188.3046\"/>\n",
       "</g>\n",
       "<!-- 5 -->\n",
       "<g id=\"node6\" class=\"node\">\n",
       "<title>5</title>\n",
       "<path fill=\"#e58139\" stroke=\"#000000\" d=\"M139.8389,-64C139.8389,-64 23.0537,-64 23.0537,-64 17.0537,-64 11.0537,-58 11.0537,-52 11.0537,-52 11.0537,-12 11.0537,-12 11.0537,-6 17.0537,0 23.0537,0 23.0537,0 139.8389,0 139.8389,0 145.8389,0 151.8389,-6 151.8389,-12 151.8389,-12 151.8389,-52 151.8389,-52 151.8389,-58 145.8389,-64 139.8389,-64\"/>\n",
       "<text text-anchor=\"middle\" x=\"81.4463\" y=\"-48.8\" font-family=\"Helvetica,sans-Serif\" font-size=\"14.00\" fill=\"#000000\">gini = 0.0</text>\n",
       "<text text-anchor=\"middle\" x=\"81.4463\" y=\"-34.8\" font-family=\"Helvetica,sans-Serif\" font-size=\"14.00\" fill=\"#000000\">samples = 4</text>\n",
       "<text text-anchor=\"middle\" x=\"81.4463\" y=\"-20.8\" font-family=\"Helvetica,sans-Serif\" font-size=\"14.00\" fill=\"#000000\">value = [4, 0]</text>\n",
       "<text text-anchor=\"middle\" x=\"81.4463\" y=\"-6.8\" font-family=\"Helvetica,sans-Serif\" font-size=\"14.00\" fill=\"#000000\">class = No Diabetes</text>\n",
       "</g>\n",
       "<!-- 4&#45;&gt;5 -->\n",
       "<g id=\"edge5\" class=\"edge\">\n",
       "<title>4&#45;&gt;5</title>\n",
       "<path fill=\"none\" stroke=\"#000000\" d=\"M175.1769,-99.7647C161.7864,-90.0838 147.4661,-79.7305 134.1511,-70.1042\"/>\n",
       "<polygon fill=\"#000000\" stroke=\"#000000\" points=\"136.1625,-67.2394 126.0079,-64.2169 132.0612,-72.9122 136.1625,-67.2394\"/>\n",
       "</g>\n",
       "<!-- 6 -->\n",
       "<g id=\"node7\" class=\"node\">\n",
       "<title>6</title>\n",
       "<path fill=\"#399de5\" stroke=\"#000000\" d=\"M277.0528,-64C277.0528,-64 181.8398,-64 181.8398,-64 175.8398,-64 169.8398,-58 169.8398,-52 169.8398,-52 169.8398,-12 169.8398,-12 169.8398,-6 175.8398,0 181.8398,0 181.8398,0 277.0528,0 277.0528,0 283.0528,0 289.0528,-6 289.0528,-12 289.0528,-12 289.0528,-52 289.0528,-52 289.0528,-58 283.0528,-64 277.0528,-64\"/>\n",
       "<text text-anchor=\"middle\" x=\"229.4463\" y=\"-48.8\" font-family=\"Helvetica,sans-Serif\" font-size=\"14.00\" fill=\"#000000\">gini = 0.0</text>\n",
       "<text text-anchor=\"middle\" x=\"229.4463\" y=\"-34.8\" font-family=\"Helvetica,sans-Serif\" font-size=\"14.00\" fill=\"#000000\">samples = 1</text>\n",
       "<text text-anchor=\"middle\" x=\"229.4463\" y=\"-20.8\" font-family=\"Helvetica,sans-Serif\" font-size=\"14.00\" fill=\"#000000\">value = [0, 1]</text>\n",
       "<text text-anchor=\"middle\" x=\"229.4463\" y=\"-6.8\" font-family=\"Helvetica,sans-Serif\" font-size=\"14.00\" fill=\"#000000\">class = Diabetes</text>\n",
       "</g>\n",
       "<!-- 4&#45;&gt;6 -->\n",
       "<g id=\"edge6\" class=\"edge\">\n",
       "<title>4&#45;&gt;6</title>\n",
       "<path fill=\"none\" stroke=\"#000000\" d=\"M229.4463,-99.7647C229.4463,-91.4537 229.4463,-82.6472 229.4463,-74.2305\"/>\n",
       "<polygon fill=\"#000000\" stroke=\"#000000\" points=\"232.9464,-74.2168 229.4463,-64.2169 225.9464,-74.2169 232.9464,-74.2168\"/>\n",
       "</g>\n",
       "<!-- 8 -->\n",
       "<g id=\"node9\" class=\"node\">\n",
       "<title>8</title>\n",
       "<path fill=\"#e58139\" fill-opacity=\"0.913725\" stroke=\"#000000\" d=\"M594.8389,-178C594.8389,-178 478.0537,-178 478.0537,-178 472.0537,-178 466.0537,-172 466.0537,-166 466.0537,-166 466.0537,-112 466.0537,-112 466.0537,-106 472.0537,-100 478.0537,-100 478.0537,-100 594.8389,-100 594.8389,-100 600.8389,-100 606.8389,-106 606.8389,-112 606.8389,-112 606.8389,-166 606.8389,-166 606.8389,-172 600.8389,-178 594.8389,-178\"/>\n",
       "<text text-anchor=\"middle\" x=\"536.4463\" y=\"-162.8\" font-family=\"Helvetica,sans-Serif\" font-size=\"14.00\" fill=\"#000000\">plas &lt;= 133.0</text>\n",
       "<text text-anchor=\"middle\" x=\"536.4463\" y=\"-148.8\" font-family=\"Helvetica,sans-Serif\" font-size=\"14.00\" fill=\"#000000\">gini = 0.149</text>\n",
       "<text text-anchor=\"middle\" x=\"536.4463\" y=\"-134.8\" font-family=\"Helvetica,sans-Serif\" font-size=\"14.00\" fill=\"#000000\">samples = 74</text>\n",
       "<text text-anchor=\"middle\" x=\"536.4463\" y=\"-120.8\" font-family=\"Helvetica,sans-Serif\" font-size=\"14.00\" fill=\"#000000\">value = [68, 6]</text>\n",
       "<text text-anchor=\"middle\" x=\"536.4463\" y=\"-106.8\" font-family=\"Helvetica,sans-Serif\" font-size=\"14.00\" fill=\"#000000\">class = No Diabetes</text>\n",
       "</g>\n",
       "<!-- 7&#45;&gt;8 -->\n",
       "<g id=\"edge8\" class=\"edge\">\n",
       "<title>7&#45;&gt;8</title>\n",
       "<path fill=\"none\" stroke=\"#000000\" d=\"M588.259,-213.7677C582.2385,-205.0798 575.7939,-195.7801 569.5667,-186.794\"/>\n",
       "<polygon fill=\"#000000\" stroke=\"#000000\" points=\"572.2564,-184.5304 563.6837,-178.3046 566.5028,-188.5176 572.2564,-184.5304\"/>\n",
       "</g>\n",
       "<!-- 11 -->\n",
       "<g id=\"node12\" class=\"node\">\n",
       "<title>11</title>\n",
       "<path fill=\"#e58139\" fill-opacity=\"0.396078\" stroke=\"#000000\" d=\"M753.8389,-178C753.8389,-178 637.0537,-178 637.0537,-178 631.0537,-178 625.0537,-172 625.0537,-166 625.0537,-166 625.0537,-112 625.0537,-112 625.0537,-106 631.0537,-100 637.0537,-100 637.0537,-100 753.8389,-100 753.8389,-100 759.8389,-100 765.8389,-106 765.8389,-112 765.8389,-112 765.8389,-166 765.8389,-166 765.8389,-172 759.8389,-178 753.8389,-178\"/>\n",
       "<text text-anchor=\"middle\" x=\"695.4463\" y=\"-162.8\" font-family=\"Helvetica,sans-Serif\" font-size=\"14.00\" fill=\"#000000\">pedi &lt;= 0.708</text>\n",
       "<text text-anchor=\"middle\" x=\"695.4463\" y=\"-148.8\" font-family=\"Helvetica,sans-Serif\" font-size=\"14.00\" fill=\"#000000\">gini = 0.47</text>\n",
       "<text text-anchor=\"middle\" x=\"695.4463\" y=\"-134.8\" font-family=\"Helvetica,sans-Serif\" font-size=\"14.00\" fill=\"#000000\">samples = 183</text>\n",
       "<text text-anchor=\"middle\" x=\"695.4463\" y=\"-120.8\" font-family=\"Helvetica,sans-Serif\" font-size=\"14.00\" fill=\"#000000\">value = [114, 69]</text>\n",
       "<text text-anchor=\"middle\" x=\"695.4463\" y=\"-106.8\" font-family=\"Helvetica,sans-Serif\" font-size=\"14.00\" fill=\"#000000\">class = No Diabetes</text>\n",
       "</g>\n",
       "<!-- 7&#45;&gt;11 -->\n",
       "<g id=\"edge11\" class=\"edge\">\n",
       "<title>7&#45;&gt;11</title>\n",
       "<path fill=\"none\" stroke=\"#000000\" d=\"M642.9778,-213.7677C649.1373,-204.9903 655.7352,-195.5883 662.1016,-186.5161\"/>\n",
       "<polygon fill=\"#000000\" stroke=\"#000000\" points=\"664.9847,-188.5007 667.8641,-178.3046 659.2548,-184.4797 664.9847,-188.5007\"/>\n",
       "</g>\n",
       "<!-- 9 -->\n",
       "<g id=\"node10\" class=\"node\">\n",
       "<title>9</title>\n",
       "<path fill=\"#e58139\" fill-opacity=\"0.968627\" stroke=\"#000000\" d=\"M435.8389,-64C435.8389,-64 319.0537,-64 319.0537,-64 313.0537,-64 307.0537,-58 307.0537,-52 307.0537,-52 307.0537,-12 307.0537,-12 307.0537,-6 313.0537,0 319.0537,0 319.0537,0 435.8389,0 435.8389,0 441.8389,0 447.8389,-6 447.8389,-12 447.8389,-12 447.8389,-52 447.8389,-52 447.8389,-58 441.8389,-64 435.8389,-64\"/>\n",
       "<text text-anchor=\"middle\" x=\"377.4463\" y=\"-48.8\" font-family=\"Helvetica,sans-Serif\" font-size=\"14.00\" fill=\"#000000\">gini = 0.06</text>\n",
       "<text text-anchor=\"middle\" x=\"377.4463\" y=\"-34.8\" font-family=\"Helvetica,sans-Serif\" font-size=\"14.00\" fill=\"#000000\">samples = 65</text>\n",
       "<text text-anchor=\"middle\" x=\"377.4463\" y=\"-20.8\" font-family=\"Helvetica,sans-Serif\" font-size=\"14.00\" fill=\"#000000\">value = [63, 2]</text>\n",
       "<text text-anchor=\"middle\" x=\"377.4463\" y=\"-6.8\" font-family=\"Helvetica,sans-Serif\" font-size=\"14.00\" fill=\"#000000\">class = No Diabetes</text>\n",
       "</g>\n",
       "<!-- 8&#45;&gt;9 -->\n",
       "<g id=\"edge9\" class=\"edge\">\n",
       "<title>8&#45;&gt;9</title>\n",
       "<path fill=\"none\" stroke=\"#000000\" d=\"M478.1434,-99.7647C463.5479,-89.9426 447.924,-79.4284 433.4432,-69.6835\"/>\n",
       "<polygon fill=\"#000000\" stroke=\"#000000\" points=\"435.3161,-66.7252 425.0657,-64.0458 431.408,-72.5326 435.3161,-66.7252\"/>\n",
       "</g>\n",
       "<!-- 10 -->\n",
       "<g id=\"node11\" class=\"node\">\n",
       "<title>10</title>\n",
       "<path fill=\"#e58139\" fill-opacity=\"0.200000\" stroke=\"#000000\" d=\"M594.8389,-64C594.8389,-64 478.0537,-64 478.0537,-64 472.0537,-64 466.0537,-58 466.0537,-52 466.0537,-52 466.0537,-12 466.0537,-12 466.0537,-6 472.0537,0 478.0537,0 478.0537,0 594.8389,0 594.8389,0 600.8389,0 606.8389,-6 606.8389,-12 606.8389,-12 606.8389,-52 606.8389,-52 606.8389,-58 600.8389,-64 594.8389,-64\"/>\n",
       "<text text-anchor=\"middle\" x=\"536.4463\" y=\"-48.8\" font-family=\"Helvetica,sans-Serif\" font-size=\"14.00\" fill=\"#000000\">gini = 0.494</text>\n",
       "<text text-anchor=\"middle\" x=\"536.4463\" y=\"-34.8\" font-family=\"Helvetica,sans-Serif\" font-size=\"14.00\" fill=\"#000000\">samples = 9</text>\n",
       "<text text-anchor=\"middle\" x=\"536.4463\" y=\"-20.8\" font-family=\"Helvetica,sans-Serif\" font-size=\"14.00\" fill=\"#000000\">value = [5, 4]</text>\n",
       "<text text-anchor=\"middle\" x=\"536.4463\" y=\"-6.8\" font-family=\"Helvetica,sans-Serif\" font-size=\"14.00\" fill=\"#000000\">class = No Diabetes</text>\n",
       "</g>\n",
       "<!-- 8&#45;&gt;10 -->\n",
       "<g id=\"edge10\" class=\"edge\">\n",
       "<title>8&#45;&gt;10</title>\n",
       "<path fill=\"none\" stroke=\"#000000\" d=\"M536.4463,-99.7647C536.4463,-91.4537 536.4463,-82.6472 536.4463,-74.2305\"/>\n",
       "<polygon fill=\"#000000\" stroke=\"#000000\" points=\"539.9464,-74.2168 536.4463,-64.2169 532.9464,-74.2169 539.9464,-74.2168\"/>\n",
       "</g>\n",
       "<!-- 12 -->\n",
       "<g id=\"node13\" class=\"node\">\n",
       "<title>12</title>\n",
       "<path fill=\"#e58139\" fill-opacity=\"0.564706\" stroke=\"#000000\" d=\"M753.8389,-64C753.8389,-64 637.0537,-64 637.0537,-64 631.0537,-64 625.0537,-58 625.0537,-52 625.0537,-52 625.0537,-12 625.0537,-12 625.0537,-6 631.0537,0 637.0537,0 637.0537,0 753.8389,0 753.8389,0 759.8389,0 765.8389,-6 765.8389,-12 765.8389,-12 765.8389,-52 765.8389,-52 765.8389,-58 759.8389,-64 753.8389,-64\"/>\n",
       "<text text-anchor=\"middle\" x=\"695.4463\" y=\"-48.8\" font-family=\"Helvetica,sans-Serif\" font-size=\"14.00\" fill=\"#000000\">gini = 0.422</text>\n",
       "<text text-anchor=\"middle\" x=\"695.4463\" y=\"-34.8\" font-family=\"Helvetica,sans-Serif\" font-size=\"14.00\" fill=\"#000000\">samples = 142</text>\n",
       "<text text-anchor=\"middle\" x=\"695.4463\" y=\"-20.8\" font-family=\"Helvetica,sans-Serif\" font-size=\"14.00\" fill=\"#000000\">value = [99, 43]</text>\n",
       "<text text-anchor=\"middle\" x=\"695.4463\" y=\"-6.8\" font-family=\"Helvetica,sans-Serif\" font-size=\"14.00\" fill=\"#000000\">class = No Diabetes</text>\n",
       "</g>\n",
       "<!-- 11&#45;&gt;12 -->\n",
       "<g id=\"edge12\" class=\"edge\">\n",
       "<title>11&#45;&gt;12</title>\n",
       "<path fill=\"none\" stroke=\"#000000\" d=\"M695.4463,-99.7647C695.4463,-91.4537 695.4463,-82.6472 695.4463,-74.2305\"/>\n",
       "<polygon fill=\"#000000\" stroke=\"#000000\" points=\"698.9464,-74.2168 695.4463,-64.2169 691.9464,-74.2169 698.9464,-74.2168\"/>\n",
       "</g>\n",
       "<!-- 13 -->\n",
       "<g id=\"node14\" class=\"node\">\n",
       "<title>13</title>\n",
       "<path fill=\"#399de5\" fill-opacity=\"0.423529\" stroke=\"#000000\" d=\"M891.0528,-64C891.0528,-64 795.8398,-64 795.8398,-64 789.8398,-64 783.8398,-58 783.8398,-52 783.8398,-52 783.8398,-12 783.8398,-12 783.8398,-6 789.8398,0 795.8398,0 795.8398,0 891.0528,0 891.0528,0 897.0528,0 903.0528,-6 903.0528,-12 903.0528,-12 903.0528,-52 903.0528,-52 903.0528,-58 897.0528,-64 891.0528,-64\"/>\n",
       "<text text-anchor=\"middle\" x=\"843.4463\" y=\"-48.8\" font-family=\"Helvetica,sans-Serif\" font-size=\"14.00\" fill=\"#000000\">gini = 0.464</text>\n",
       "<text text-anchor=\"middle\" x=\"843.4463\" y=\"-34.8\" font-family=\"Helvetica,sans-Serif\" font-size=\"14.00\" fill=\"#000000\">samples = 41</text>\n",
       "<text text-anchor=\"middle\" x=\"843.4463\" y=\"-20.8\" font-family=\"Helvetica,sans-Serif\" font-size=\"14.00\" fill=\"#000000\">value = [15, 26]</text>\n",
       "<text text-anchor=\"middle\" x=\"843.4463\" y=\"-6.8\" font-family=\"Helvetica,sans-Serif\" font-size=\"14.00\" fill=\"#000000\">class = Diabetes</text>\n",
       "</g>\n",
       "<!-- 11&#45;&gt;13 -->\n",
       "<g id=\"edge13\" class=\"edge\">\n",
       "<title>11&#45;&gt;13</title>\n",
       "<path fill=\"none\" stroke=\"#000000\" d=\"M749.7156,-99.7647C763.1061,-90.0838 777.4265,-79.7305 790.7414,-70.1042\"/>\n",
       "<polygon fill=\"#000000\" stroke=\"#000000\" points=\"792.8313,-72.9122 798.8846,-64.2169 788.7301,-67.2394 792.8313,-72.9122\"/>\n",
       "</g>\n",
       "<!-- 15 -->\n",
       "<g id=\"node16\" class=\"node\">\n",
       "<title>15</title>\n",
       "<path fill=\"#399de5\" fill-opacity=\"0.250980\" stroke=\"#000000\" d=\"M1255.0528,-292C1255.0528,-292 1159.8398,-292 1159.8398,-292 1153.8398,-292 1147.8398,-286 1147.8398,-280 1147.8398,-280 1147.8398,-226 1147.8398,-226 1147.8398,-220 1153.8398,-214 1159.8398,-214 1159.8398,-214 1255.0528,-214 1255.0528,-214 1261.0528,-214 1267.0528,-220 1267.0528,-226 1267.0528,-226 1267.0528,-280 1267.0528,-280 1267.0528,-286 1261.0528,-292 1255.0528,-292\"/>\n",
       "<text text-anchor=\"middle\" x=\"1207.4463\" y=\"-276.8\" font-family=\"Helvetica,sans-Serif\" font-size=\"14.00\" fill=\"#000000\">age &lt;= 27.5</text>\n",
       "<text text-anchor=\"middle\" x=\"1207.4463\" y=\"-262.8\" font-family=\"Helvetica,sans-Serif\" font-size=\"14.00\" fill=\"#000000\">gini = 0.49</text>\n",
       "<text text-anchor=\"middle\" x=\"1207.4463\" y=\"-248.8\" font-family=\"Helvetica,sans-Serif\" font-size=\"14.00\" fill=\"#000000\">samples = 42</text>\n",
       "<text text-anchor=\"middle\" x=\"1207.4463\" y=\"-234.8\" font-family=\"Helvetica,sans-Serif\" font-size=\"14.00\" fill=\"#000000\">value = [18, 24]</text>\n",
       "<text text-anchor=\"middle\" x=\"1207.4463\" y=\"-220.8\" font-family=\"Helvetica,sans-Serif\" font-size=\"14.00\" fill=\"#000000\">class = Diabetes</text>\n",
       "</g>\n",
       "<!-- 14&#45;&gt;15 -->\n",
       "<g id=\"edge15\" class=\"edge\">\n",
       "<title>14&#45;&gt;15</title>\n",
       "<path fill=\"none\" stroke=\"#000000\" d=\"M1207.4463,-327.7677C1207.4463,-319.6172 1207.4463,-310.9283 1207.4463,-302.4649\"/>\n",
       "<polygon fill=\"#000000\" stroke=\"#000000\" points=\"1210.9464,-302.3046 1207.4463,-292.3046 1203.9464,-302.3047 1210.9464,-302.3046\"/>\n",
       "</g>\n",
       "<!-- 22 -->\n",
       "<g id=\"node23\" class=\"node\">\n",
       "<title>22</title>\n",
       "<path fill=\"#399de5\" fill-opacity=\"0.819608\" stroke=\"#000000\" d=\"M1620.0528,-292C1620.0528,-292 1524.8398,-292 1524.8398,-292 1518.8398,-292 1512.8398,-286 1512.8398,-280 1512.8398,-280 1512.8398,-226 1512.8398,-226 1512.8398,-220 1518.8398,-214 1524.8398,-214 1524.8398,-214 1620.0528,-214 1620.0528,-214 1626.0528,-214 1632.0528,-220 1632.0528,-226 1632.0528,-226 1632.0528,-280 1632.0528,-280 1632.0528,-286 1626.0528,-292 1620.0528,-292\"/>\n",
       "<text text-anchor=\"middle\" x=\"1572.4463\" y=\"-276.8\" font-family=\"Helvetica,sans-Serif\" font-size=\"14.00\" fill=\"#000000\">test &lt;= 629.5</text>\n",
       "<text text-anchor=\"middle\" x=\"1572.4463\" y=\"-262.8\" font-family=\"Helvetica,sans-Serif\" font-size=\"14.00\" fill=\"#000000\">gini = 0.257</text>\n",
       "<text text-anchor=\"middle\" x=\"1572.4463\" y=\"-248.8\" font-family=\"Helvetica,sans-Serif\" font-size=\"14.00\" fill=\"#000000\">samples = 66</text>\n",
       "<text text-anchor=\"middle\" x=\"1572.4463\" y=\"-234.8\" font-family=\"Helvetica,sans-Serif\" font-size=\"14.00\" fill=\"#000000\">value = [10, 56]</text>\n",
       "<text text-anchor=\"middle\" x=\"1572.4463\" y=\"-220.8\" font-family=\"Helvetica,sans-Serif\" font-size=\"14.00\" fill=\"#000000\">class = Diabetes</text>\n",
       "</g>\n",
       "<!-- 14&#45;&gt;22 -->\n",
       "<g id=\"edge22\" class=\"edge\">\n",
       "<title>14&#45;&gt;22</title>\n",
       "<path fill=\"none\" stroke=\"#000000\" d=\"M1267.3099,-348.3029C1331.9825,-328.1038 1434.8968,-295.9607 1503.0575,-274.6721\"/>\n",
       "<polygon fill=\"#000000\" stroke=\"#000000\" points=\"1504.3513,-277.9348 1512.8531,-271.6127 1502.2644,-271.2531 1504.3513,-277.9348\"/>\n",
       "</g>\n",
       "<!-- 16 -->\n",
       "<g id=\"node17\" class=\"node\">\n",
       "<title>16</title>\n",
       "<path fill=\"#e58139\" fill-opacity=\"0.749020\" stroke=\"#000000\" d=\"M1191.8389,-178C1191.8389,-178 1075.0537,-178 1075.0537,-178 1069.0537,-178 1063.0537,-172 1063.0537,-166 1063.0537,-166 1063.0537,-112 1063.0537,-112 1063.0537,-106 1069.0537,-100 1075.0537,-100 1075.0537,-100 1191.8389,-100 1191.8389,-100 1197.8389,-100 1203.8389,-106 1203.8389,-112 1203.8389,-112 1203.8389,-166 1203.8389,-166 1203.8389,-172 1197.8389,-178 1191.8389,-178\"/>\n",
       "<text text-anchor=\"middle\" x=\"1133.4463\" y=\"-162.8\" font-family=\"Helvetica,sans-Serif\" font-size=\"14.00\" fill=\"#000000\">plas &lt;= 169.0</text>\n",
       "<text text-anchor=\"middle\" x=\"1133.4463\" y=\"-148.8\" font-family=\"Helvetica,sans-Serif\" font-size=\"14.00\" fill=\"#000000\">gini = 0.32</text>\n",
       "<text text-anchor=\"middle\" x=\"1133.4463\" y=\"-134.8\" font-family=\"Helvetica,sans-Serif\" font-size=\"14.00\" fill=\"#000000\">samples = 10</text>\n",
       "<text text-anchor=\"middle\" x=\"1133.4463\" y=\"-120.8\" font-family=\"Helvetica,sans-Serif\" font-size=\"14.00\" fill=\"#000000\">value = [8, 2]</text>\n",
       "<text text-anchor=\"middle\" x=\"1133.4463\" y=\"-106.8\" font-family=\"Helvetica,sans-Serif\" font-size=\"14.00\" fill=\"#000000\">class = No Diabetes</text>\n",
       "</g>\n",
       "<!-- 15&#45;&gt;16 -->\n",
       "<g id=\"edge16\" class=\"edge\">\n",
       "<title>15&#45;&gt;16</title>\n",
       "<path fill=\"none\" stroke=\"#000000\" d=\"M1181.9797,-213.7677C1176.3402,-205.0798 1170.3036,-195.7801 1164.4704,-186.794\"/>\n",
       "<polygon fill=\"#000000\" stroke=\"#000000\" points=\"1167.3403,-184.7868 1158.9598,-178.3046 1161.4689,-188.5981 1167.3403,-184.7868\"/>\n",
       "</g>\n",
       "<!-- 19 -->\n",
       "<g id=\"node20\" class=\"node\">\n",
       "<title>19</title>\n",
       "<path fill=\"#399de5\" fill-opacity=\"0.545098\" stroke=\"#000000\" d=\"M1329.0528,-178C1329.0528,-178 1233.8398,-178 1233.8398,-178 1227.8398,-178 1221.8398,-172 1221.8398,-166 1221.8398,-166 1221.8398,-112 1221.8398,-112 1221.8398,-106 1227.8398,-100 1233.8398,-100 1233.8398,-100 1329.0528,-100 1329.0528,-100 1335.0528,-100 1341.0528,-106 1341.0528,-112 1341.0528,-112 1341.0528,-166 1341.0528,-166 1341.0528,-172 1335.0528,-178 1329.0528,-178\"/>\n",
       "<text text-anchor=\"middle\" x=\"1281.4463\" y=\"-162.8\" font-family=\"Helvetica,sans-Serif\" font-size=\"14.00\" fill=\"#000000\">pedi &lt;= 0.288</text>\n",
       "<text text-anchor=\"middle\" x=\"1281.4463\" y=\"-148.8\" font-family=\"Helvetica,sans-Serif\" font-size=\"14.00\" fill=\"#000000\">gini = 0.43</text>\n",
       "<text text-anchor=\"middle\" x=\"1281.4463\" y=\"-134.8\" font-family=\"Helvetica,sans-Serif\" font-size=\"14.00\" fill=\"#000000\">samples = 32</text>\n",
       "<text text-anchor=\"middle\" x=\"1281.4463\" y=\"-120.8\" font-family=\"Helvetica,sans-Serif\" font-size=\"14.00\" fill=\"#000000\">value = [10, 22]</text>\n",
       "<text text-anchor=\"middle\" x=\"1281.4463\" y=\"-106.8\" font-family=\"Helvetica,sans-Serif\" font-size=\"14.00\" fill=\"#000000\">class = Diabetes</text>\n",
       "</g>\n",
       "<!-- 15&#45;&gt;19 -->\n",
       "<g id=\"edge19\" class=\"edge\">\n",
       "<title>15&#45;&gt;19</title>\n",
       "<path fill=\"none\" stroke=\"#000000\" d=\"M1232.9129,-213.7677C1238.5524,-205.0798 1244.589,-195.7801 1250.4221,-186.794\"/>\n",
       "<polygon fill=\"#000000\" stroke=\"#000000\" points=\"1253.4237,-188.5981 1255.9327,-178.3046 1247.5523,-184.7868 1253.4237,-188.5981\"/>\n",
       "</g>\n",
       "<!-- 17 -->\n",
       "<g id=\"node18\" class=\"node\">\n",
       "<title>17</title>\n",
       "<path fill=\"#e58139\" stroke=\"#000000\" d=\"M1049.8389,-64C1049.8389,-64 933.0537,-64 933.0537,-64 927.0537,-64 921.0537,-58 921.0537,-52 921.0537,-52 921.0537,-12 921.0537,-12 921.0537,-6 927.0537,0 933.0537,0 933.0537,0 1049.8389,0 1049.8389,0 1055.8389,0 1061.8389,-6 1061.8389,-12 1061.8389,-12 1061.8389,-52 1061.8389,-52 1061.8389,-58 1055.8389,-64 1049.8389,-64\"/>\n",
       "<text text-anchor=\"middle\" x=\"991.4463\" y=\"-48.8\" font-family=\"Helvetica,sans-Serif\" font-size=\"14.00\" fill=\"#000000\">gini = 0.0</text>\n",
       "<text text-anchor=\"middle\" x=\"991.4463\" y=\"-34.8\" font-family=\"Helvetica,sans-Serif\" font-size=\"14.00\" fill=\"#000000\">samples = 7</text>\n",
       "<text text-anchor=\"middle\" x=\"991.4463\" y=\"-20.8\" font-family=\"Helvetica,sans-Serif\" font-size=\"14.00\" fill=\"#000000\">value = [7, 0]</text>\n",
       "<text text-anchor=\"middle\" x=\"991.4463\" y=\"-6.8\" font-family=\"Helvetica,sans-Serif\" font-size=\"14.00\" fill=\"#000000\">class = No Diabetes</text>\n",
       "</g>\n",
       "<!-- 16&#45;&gt;17 -->\n",
       "<g id=\"edge17\" class=\"edge\">\n",
       "<title>16&#45;&gt;17</title>\n",
       "<path fill=\"none\" stroke=\"#000000\" d=\"M1081.377,-99.7647C1068.6506,-90.1751 1055.0488,-79.9258 1042.3763,-70.3768\"/>\n",
       "<polygon fill=\"#000000\" stroke=\"#000000\" points=\"1044.2942,-67.4396 1034.2014,-64.2169 1040.0816,-73.0302 1044.2942,-67.4396\"/>\n",
       "</g>\n",
       "<!-- 18 -->\n",
       "<g id=\"node19\" class=\"node\">\n",
       "<title>18</title>\n",
       "<path fill=\"#399de5\" fill-opacity=\"0.498039\" stroke=\"#000000\" d=\"M1187.0528,-64C1187.0528,-64 1091.8398,-64 1091.8398,-64 1085.8398,-64 1079.8398,-58 1079.8398,-52 1079.8398,-52 1079.8398,-12 1079.8398,-12 1079.8398,-6 1085.8398,0 1091.8398,0 1091.8398,0 1187.0528,0 1187.0528,0 1193.0528,0 1199.0528,-6 1199.0528,-12 1199.0528,-12 1199.0528,-52 1199.0528,-52 1199.0528,-58 1193.0528,-64 1187.0528,-64\"/>\n",
       "<text text-anchor=\"middle\" x=\"1139.4463\" y=\"-48.8\" font-family=\"Helvetica,sans-Serif\" font-size=\"14.00\" fill=\"#000000\">gini = 0.444</text>\n",
       "<text text-anchor=\"middle\" x=\"1139.4463\" y=\"-34.8\" font-family=\"Helvetica,sans-Serif\" font-size=\"14.00\" fill=\"#000000\">samples = 3</text>\n",
       "<text text-anchor=\"middle\" x=\"1139.4463\" y=\"-20.8\" font-family=\"Helvetica,sans-Serif\" font-size=\"14.00\" fill=\"#000000\">value = [1, 2]</text>\n",
       "<text text-anchor=\"middle\" x=\"1139.4463\" y=\"-6.8\" font-family=\"Helvetica,sans-Serif\" font-size=\"14.00\" fill=\"#000000\">class = Diabetes</text>\n",
       "</g>\n",
       "<!-- 16&#45;&gt;18 -->\n",
       "<g id=\"edge18\" class=\"edge\">\n",
       "<title>16&#45;&gt;18</title>\n",
       "<path fill=\"none\" stroke=\"#000000\" d=\"M1135.6464,-99.7647C1136.1124,-91.4537 1136.6063,-82.6472 1137.0782,-74.2305\"/>\n",
       "<polygon fill=\"#000000\" stroke=\"#000000\" points=\"1140.5743,-74.3972 1137.6397,-64.2169 1133.5853,-74.0052 1140.5743,-74.3972\"/>\n",
       "</g>\n",
       "<!-- 20 -->\n",
       "<g id=\"node21\" class=\"node\">\n",
       "<title>20</title>\n",
       "<path fill=\"#399de5\" fill-opacity=\"0.682353\" stroke=\"#000000\" d=\"M1324.0528,-64C1324.0528,-64 1228.8398,-64 1228.8398,-64 1222.8398,-64 1216.8398,-58 1216.8398,-52 1216.8398,-52 1216.8398,-12 1216.8398,-12 1216.8398,-6 1222.8398,0 1228.8398,0 1228.8398,0 1324.0528,0 1324.0528,0 1330.0528,0 1336.0528,-6 1336.0528,-12 1336.0528,-12 1336.0528,-52 1336.0528,-52 1336.0528,-58 1330.0528,-64 1324.0528,-64\"/>\n",
       "<text text-anchor=\"middle\" x=\"1276.4463\" y=\"-48.8\" font-family=\"Helvetica,sans-Serif\" font-size=\"14.00\" fill=\"#000000\">gini = 0.366</text>\n",
       "<text text-anchor=\"middle\" x=\"1276.4463\" y=\"-34.8\" font-family=\"Helvetica,sans-Serif\" font-size=\"14.00\" fill=\"#000000\">samples = 29</text>\n",
       "<text text-anchor=\"middle\" x=\"1276.4463\" y=\"-20.8\" font-family=\"Helvetica,sans-Serif\" font-size=\"14.00\" fill=\"#000000\">value = [7, 22]</text>\n",
       "<text text-anchor=\"middle\" x=\"1276.4463\" y=\"-6.8\" font-family=\"Helvetica,sans-Serif\" font-size=\"14.00\" fill=\"#000000\">class = Diabetes</text>\n",
       "</g>\n",
       "<!-- 19&#45;&gt;20 -->\n",
       "<g id=\"edge20\" class=\"edge\">\n",
       "<title>19&#45;&gt;20</title>\n",
       "<path fill=\"none\" stroke=\"#000000\" d=\"M1279.6129,-99.7647C1279.2245,-91.4537 1278.813,-82.6472 1278.4197,-74.2305\"/>\n",
       "<polygon fill=\"#000000\" stroke=\"#000000\" points=\"1281.9148,-74.0426 1277.9518,-64.2169 1274.9224,-74.3694 1281.9148,-74.0426\"/>\n",
       "</g>\n",
       "<!-- 21 -->\n",
       "<g id=\"node22\" class=\"node\">\n",
       "<title>21</title>\n",
       "<path fill=\"#e58139\" stroke=\"#000000\" d=\"M1482.8389,-64C1482.8389,-64 1366.0537,-64 1366.0537,-64 1360.0537,-64 1354.0537,-58 1354.0537,-52 1354.0537,-52 1354.0537,-12 1354.0537,-12 1354.0537,-6 1360.0537,0 1366.0537,0 1366.0537,0 1482.8389,0 1482.8389,0 1488.8389,0 1494.8389,-6 1494.8389,-12 1494.8389,-12 1494.8389,-52 1494.8389,-52 1494.8389,-58 1488.8389,-64 1482.8389,-64\"/>\n",
       "<text text-anchor=\"middle\" x=\"1424.4463\" y=\"-48.8\" font-family=\"Helvetica,sans-Serif\" font-size=\"14.00\" fill=\"#000000\">gini = 0.0</text>\n",
       "<text text-anchor=\"middle\" x=\"1424.4463\" y=\"-34.8\" font-family=\"Helvetica,sans-Serif\" font-size=\"14.00\" fill=\"#000000\">samples = 3</text>\n",
       "<text text-anchor=\"middle\" x=\"1424.4463\" y=\"-20.8\" font-family=\"Helvetica,sans-Serif\" font-size=\"14.00\" fill=\"#000000\">value = [3, 0]</text>\n",
       "<text text-anchor=\"middle\" x=\"1424.4463\" y=\"-6.8\" font-family=\"Helvetica,sans-Serif\" font-size=\"14.00\" fill=\"#000000\">class = No Diabetes</text>\n",
       "</g>\n",
       "<!-- 19&#45;&gt;21 -->\n",
       "<g id=\"edge21\" class=\"edge\">\n",
       "<title>19&#45;&gt;21</title>\n",
       "<path fill=\"none\" stroke=\"#000000\" d=\"M1333.8822,-99.7647C1346.6983,-90.1751 1360.3959,-79.9258 1373.1576,-70.3768\"/>\n",
       "<polygon fill=\"#000000\" stroke=\"#000000\" points=\"1375.4802,-73.0103 1381.3901,-64.2169 1371.2865,-67.4056 1375.4802,-73.0103\"/>\n",
       "</g>\n",
       "<!-- 23 -->\n",
       "<g id=\"node24\" class=\"node\">\n",
       "<title>23</title>\n",
       "<path fill=\"#399de5\" fill-opacity=\"0.858824\" stroke=\"#000000\" d=\"M1620.0528,-178C1620.0528,-178 1524.8398,-178 1524.8398,-178 1518.8398,-178 1512.8398,-172 1512.8398,-166 1512.8398,-166 1512.8398,-112 1512.8398,-112 1512.8398,-106 1518.8398,-100 1524.8398,-100 1524.8398,-100 1620.0528,-100 1620.0528,-100 1626.0528,-100 1632.0528,-106 1632.0528,-112 1632.0528,-112 1632.0528,-166 1632.0528,-166 1632.0528,-172 1626.0528,-178 1620.0528,-178\"/>\n",
       "<text text-anchor=\"middle\" x=\"1572.4463\" y=\"-162.8\" font-family=\"Helvetica,sans-Serif\" font-size=\"14.00\" fill=\"#000000\">plas &lt;= 153.5</text>\n",
       "<text text-anchor=\"middle\" x=\"1572.4463\" y=\"-148.8\" font-family=\"Helvetica,sans-Serif\" font-size=\"14.00\" fill=\"#000000\">gini = 0.219</text>\n",
       "<text text-anchor=\"middle\" x=\"1572.4463\" y=\"-134.8\" font-family=\"Helvetica,sans-Serif\" font-size=\"14.00\" fill=\"#000000\">samples = 64</text>\n",
       "<text text-anchor=\"middle\" x=\"1572.4463\" y=\"-120.8\" font-family=\"Helvetica,sans-Serif\" font-size=\"14.00\" fill=\"#000000\">value = [8, 56]</text>\n",
       "<text text-anchor=\"middle\" x=\"1572.4463\" y=\"-106.8\" font-family=\"Helvetica,sans-Serif\" font-size=\"14.00\" fill=\"#000000\">class = Diabetes</text>\n",
       "</g>\n",
       "<!-- 22&#45;&gt;23 -->\n",
       "<g id=\"edge23\" class=\"edge\">\n",
       "<title>22&#45;&gt;23</title>\n",
       "<path fill=\"none\" stroke=\"#000000\" d=\"M1572.4463,-213.7677C1572.4463,-205.6172 1572.4463,-196.9283 1572.4463,-188.4649\"/>\n",
       "<polygon fill=\"#000000\" stroke=\"#000000\" points=\"1575.9464,-188.3046 1572.4463,-178.3046 1568.9464,-188.3047 1575.9464,-188.3046\"/>\n",
       "</g>\n",
       "<!-- 26 -->\n",
       "<g id=\"node27\" class=\"node\">\n",
       "<title>26</title>\n",
       "<path fill=\"#e58139\" stroke=\"#000000\" d=\"M1778.8389,-171C1778.8389,-171 1662.0537,-171 1662.0537,-171 1656.0537,-171 1650.0537,-165 1650.0537,-159 1650.0537,-159 1650.0537,-119 1650.0537,-119 1650.0537,-113 1656.0537,-107 1662.0537,-107 1662.0537,-107 1778.8389,-107 1778.8389,-107 1784.8389,-107 1790.8389,-113 1790.8389,-119 1790.8389,-119 1790.8389,-159 1790.8389,-159 1790.8389,-165 1784.8389,-171 1778.8389,-171\"/>\n",
       "<text text-anchor=\"middle\" x=\"1720.4463\" y=\"-155.8\" font-family=\"Helvetica,sans-Serif\" font-size=\"14.00\" fill=\"#000000\">gini = 0.0</text>\n",
       "<text text-anchor=\"middle\" x=\"1720.4463\" y=\"-141.8\" font-family=\"Helvetica,sans-Serif\" font-size=\"14.00\" fill=\"#000000\">samples = 2</text>\n",
       "<text text-anchor=\"middle\" x=\"1720.4463\" y=\"-127.8\" font-family=\"Helvetica,sans-Serif\" font-size=\"14.00\" fill=\"#000000\">value = [2, 0]</text>\n",
       "<text text-anchor=\"middle\" x=\"1720.4463\" y=\"-113.8\" font-family=\"Helvetica,sans-Serif\" font-size=\"14.00\" fill=\"#000000\">class = No Diabetes</text>\n",
       "</g>\n",
       "<!-- 22&#45;&gt;26 -->\n",
       "<g id=\"edge26\" class=\"edge\">\n",
       "<title>22&#45;&gt;26</title>\n",
       "<path fill=\"none\" stroke=\"#000000\" d=\"M1623.3795,-213.7677C1638.6184,-202.0296 1655.3074,-189.1745 1670.4833,-177.485\"/>\n",
       "<polygon fill=\"#000000\" stroke=\"#000000\" points=\"1672.9534,-180.0003 1678.7399,-171.1252 1668.6818,-174.4547 1672.9534,-180.0003\"/>\n",
       "</g>\n",
       "<!-- 24 -->\n",
       "<g id=\"node25\" class=\"node\">\n",
       "<title>24</title>\n",
       "<path fill=\"#399de5\" fill-opacity=\"0.443137\" stroke=\"#000000\" d=\"M1620.0528,-64C1620.0528,-64 1524.8398,-64 1524.8398,-64 1518.8398,-64 1512.8398,-58 1512.8398,-52 1512.8398,-52 1512.8398,-12 1512.8398,-12 1512.8398,-6 1518.8398,0 1524.8398,0 1524.8398,0 1620.0528,0 1620.0528,0 1626.0528,0 1632.0528,-6 1632.0528,-12 1632.0528,-12 1632.0528,-52 1632.0528,-52 1632.0528,-58 1626.0528,-64 1620.0528,-64\"/>\n",
       "<text text-anchor=\"middle\" x=\"1572.4463\" y=\"-48.8\" font-family=\"Helvetica,sans-Serif\" font-size=\"14.00\" fill=\"#000000\">gini = 0.459</text>\n",
       "<text text-anchor=\"middle\" x=\"1572.4463\" y=\"-34.8\" font-family=\"Helvetica,sans-Serif\" font-size=\"14.00\" fill=\"#000000\">samples = 14</text>\n",
       "<text text-anchor=\"middle\" x=\"1572.4463\" y=\"-20.8\" font-family=\"Helvetica,sans-Serif\" font-size=\"14.00\" fill=\"#000000\">value = [5, 9]</text>\n",
       "<text text-anchor=\"middle\" x=\"1572.4463\" y=\"-6.8\" font-family=\"Helvetica,sans-Serif\" font-size=\"14.00\" fill=\"#000000\">class = Diabetes</text>\n",
       "</g>\n",
       "<!-- 23&#45;&gt;24 -->\n",
       "<g id=\"edge24\" class=\"edge\">\n",
       "<title>23&#45;&gt;24</title>\n",
       "<path fill=\"none\" stroke=\"#000000\" d=\"M1572.4463,-99.7647C1572.4463,-91.4537 1572.4463,-82.6472 1572.4463,-74.2305\"/>\n",
       "<polygon fill=\"#000000\" stroke=\"#000000\" points=\"1575.9464,-74.2168 1572.4463,-64.2169 1568.9464,-74.2169 1575.9464,-74.2168\"/>\n",
       "</g>\n",
       "<!-- 25 -->\n",
       "<g id=\"node26\" class=\"node\">\n",
       "<title>25</title>\n",
       "<path fill=\"#399de5\" fill-opacity=\"0.937255\" stroke=\"#000000\" d=\"M1757.0528,-64C1757.0528,-64 1661.8398,-64 1661.8398,-64 1655.8398,-64 1649.8398,-58 1649.8398,-52 1649.8398,-52 1649.8398,-12 1649.8398,-12 1649.8398,-6 1655.8398,0 1661.8398,0 1661.8398,0 1757.0528,0 1757.0528,0 1763.0528,0 1769.0528,-6 1769.0528,-12 1769.0528,-12 1769.0528,-52 1769.0528,-52 1769.0528,-58 1763.0528,-64 1757.0528,-64\"/>\n",
       "<text text-anchor=\"middle\" x=\"1709.4463\" y=\"-48.8\" font-family=\"Helvetica,sans-Serif\" font-size=\"14.00\" fill=\"#000000\">gini = 0.113</text>\n",
       "<text text-anchor=\"middle\" x=\"1709.4463\" y=\"-34.8\" font-family=\"Helvetica,sans-Serif\" font-size=\"14.00\" fill=\"#000000\">samples = 50</text>\n",
       "<text text-anchor=\"middle\" x=\"1709.4463\" y=\"-20.8\" font-family=\"Helvetica,sans-Serif\" font-size=\"14.00\" fill=\"#000000\">value = [3, 47]</text>\n",
       "<text text-anchor=\"middle\" x=\"1709.4463\" y=\"-6.8\" font-family=\"Helvetica,sans-Serif\" font-size=\"14.00\" fill=\"#000000\">class = Diabetes</text>\n",
       "</g>\n",
       "<!-- 23&#45;&gt;25 -->\n",
       "<g id=\"edge25\" class=\"edge\">\n",
       "<title>23&#45;&gt;25</title>\n",
       "<path fill=\"none\" stroke=\"#000000\" d=\"M1622.6821,-99.7647C1634.9604,-90.1751 1648.0834,-79.9258 1660.3096,-70.3768\"/>\n",
       "<polygon fill=\"#000000\" stroke=\"#000000\" points=\"1662.4699,-73.1306 1668.1966,-64.2169 1658.1611,-67.6138 1662.4699,-73.1306\"/>\n",
       "</g>\n",
       "</g>\n",
       "</svg>\n"
      ],
      "text/plain": [
       "<graphviz.files.Source at 0x108451fd0>"
      ]
     },
     "execution_count": 31,
     "metadata": {},
     "output_type": "execute_result"
    }
   ],
   "source": [
    "# your code here\n",
    "graph_data = tree.export_graphviz(model, out_file=None, \n",
    "                         feature_names=names[:-1],  \n",
    "                         class_names=['No Diabetes','Diabetes'],  \n",
    "                         filled=True, rounded=True,\n",
    "                         max_depth=4)\n",
    "\n",
    "graph = graphviz.Source(graph_data)\n",
    "graph"
   ]
  },
  {
   "cell_type": "markdown",
   "metadata": {
    "colab_type": "text",
    "id": "4iz4meWDVmo2"
   },
   "source": [
    "#### Use the graph above to answer the questions below"
   ]
  },
  {
   "cell_type": "markdown",
   "metadata": {
    "colab_type": "text",
    "id": "K5b6COUwWTtT"
   },
   "source": [
    "Question 1: If you add up the samples from the leaf nodes, how many samples are there?"
   ]
  },
  {
   "cell_type": "markdown",
   "metadata": {
    "colab_type": "text",
    "id": "B17z-Gw5WUCW"
   },
   "source": [
    "Your answer here <br>"
   ]
  },
  {
   "cell_type": "markdown",
   "metadata": {
    "colab_type": "text",
    "id": "u1yM9h10WUEv"
   },
   "source": [
    "Question 2: What do you think X[n] represents in the nodes from the graph? <br>"
   ]
  },
  {
   "cell_type": "markdown",
   "metadata": {
    "colab_type": "text",
    "id": "BXHWUVxtWUGo"
   },
   "source": [
    "Your answer here <br>"
   ]
  },
  {
   "cell_type": "markdown",
   "metadata": {
    "colab_type": "text",
    "id": "rA7B0oTaWUIe"
   },
   "source": [
    "Question 3: What is the root feature? Does it make sense as the root feature?"
   ]
  },
  {
   "cell_type": "markdown",
   "metadata": {
    "colab_type": "text",
    "id": "fp1rz6bqWUKw"
   },
   "source": [
    "Your answer here <br>"
   ]
  },
  {
   "cell_type": "markdown",
   "metadata": {
    "colab_type": "text",
    "id": "1t559pS3ZHES"
   },
   "source": [
    "#### If you were to change the parameters to have a max_depth of 500 and min_samples_leaf of 1, what do you think the effect would be on the test accuracy? Training accuracy?"
   ]
  },
  {
   "cell_type": "markdown",
   "metadata": {
    "colab_type": "text",
    "id": "mX6-ukjxakVD"
   },
   "source": [
    "Your answer here <br>"
   ]
  },
  {
   "cell_type": "markdown",
   "metadata": {
    "colab_type": "text",
    "id": "7dnlqId2bIcR"
   },
   "source": [
    "#### Test your guesses, create a model with max_depth=500 and min_samples_leaf=1, and predict values for the training and test data <br>\n",
    "you only need to predict part of the training data"
   ]
  },
  {
   "cell_type": "code",
   "execution_count": 55,
   "metadata": {
    "colab": {
     "autoexec": {
      "startup": false,
      "wait_interval": 0
     },
     "base_uri": "https://localhost:8080/",
     "height": 17
    },
    "colab_type": "code",
    "executionInfo": {
     "elapsed": 235,
     "status": "ok",
     "timestamp": 1530627843330,
     "user": {
      "displayName": "john passarelli",
      "photoUrl": "https://lh3.googleusercontent.com/a/default-user=s128",
      "userId": "102241934905781120798"
     },
     "user_tz": 240
    },
    "id": "hnUQKX9vl9Gy",
    "outputId": "ebaa5e52-a33f-4749-a3f6-6a3fde24da1f"
   },
   "outputs": [
    {
     "name": "stdout",
     "output_type": "stream",
     "text": [
      "Training Accuracy: 0.976\n",
      "Validation Accuracy: 0.750\n",
      "Test Accuracy: 0.776\n"
     ]
    }
   ],
   "source": [
    "# your code here\n",
    "model_overfit = DecisionTreeClassifier(max_depth=500,random_state=0,min_samples_leaf=1)\n",
    "\n",
    "model.fit(X_train,y_train)\n",
    "y_train_predict = model.predict(X_train)\n",
    "y_val_predict = model.predict(X_val)\n",
    "y_test_predict = model.predict(X_test)\n",
    "print(\"Training Accuracy: {:01.3f}\".format(accuracy_score(y_train,y_train_predict)))\n",
    "print(\"Validation Accuracy: {:01.3f}\".format(accuracy_score(y_val,y_val_predict)))\n",
    "print(\"Test Accuracy: {:01.3f}\".format(accuracy_score(y_test,y_test_predict)))"
   ]
  },
  {
   "cell_type": "markdown",
   "metadata": {
    "colab_type": "text",
    "id": "40Psyt65pD8p"
   },
   "source": [
    "# Random Forest"
   ]
  },
  {
   "cell_type": "markdown",
   "metadata": {
    "colab_type": "text",
    "id": "mjLu1MLIpGNF"
   },
   "source": [
    "#### Create a model with sklearn's RandomForestClassifier and predict values on your test set"
   ]
  },
  {
   "cell_type": "code",
   "execution_count": 53,
   "metadata": {
    "colab": {
     "autoexec": {
      "startup": false,
      "wait_interval": 0
     },
     "base_uri": "https://localhost:8080/",
     "height": 37
    },
    "colab_type": "code",
    "executionInfo": {
     "elapsed": 318,
     "status": "ok",
     "timestamp": 1530627847311,
     "user": {
      "displayName": "john passarelli",
      "photoUrl": "https://lh3.googleusercontent.com/a/default-user=s128",
      "userId": "102241934905781120798"
     },
     "user_tz": 240
    },
    "id": "TYwbpWxUfDIY",
    "outputId": "0008a18f-a9e3-4c04-b42e-adc8ce9aa966"
   },
   "outputs": [
    {
     "name": "stdout",
     "output_type": "stream",
     "text": [
      "Training Accuracy: 0.976\n",
      "Validation Accuracy: 0.750\n"
     ]
    }
   ],
   "source": [
    "# your code here\n",
    "X = data_frame.drop(['class'],axis=1)\n",
    "y = data_frame['class']\n",
    "\n",
    "X_train, X_test, y_train, y_test = train_test_split(X, y, test_size=0.25,random_state=0)\n",
    "X_train, X_val, y_train, y_val = train_test_split(X_train, y_train, test_size=0.2,random_state=0)\n",
    "\n",
    "model = RandomForestClassifier(n_estimators=9,random_state=0,criterion='entropy',max_features=None,\n",
    "                               min_samples_split=5)\n",
    "model.fit(X_train,y_train)\n",
    "\n",
    "y_train_predict = model.predict(X_train)\n",
    "y_val_predict = model.predict(X_val)\n",
    "\n",
    "print(\"Training Accuracy: {:01.3f}\".format(accuracy_score(y_train,y_train_predict)))\n",
    "print(\"Validation Accuracy: {:01.3f}\".format(accuracy_score(y_val,y_val_predict)))"
   ]
  },
  {
   "cell_type": "markdown",
   "metadata": {
    "colab_type": "text",
    "id": "6Ys_J3O4pd0u"
   },
   "source": [
    "#### Print the accuracy on the test data, play with the parameters and try to improve the accuracy<br>\n",
    "how did the accuracy compare to the decision tree's accuracy?<br>"
   ]
  },
  {
   "cell_type": "code",
   "execution_count": 54,
   "metadata": {
    "colab": {
     "autoexec": {
      "startup": false,
      "wait_interval": 0
     },
     "base_uri": "https://localhost:8080/",
     "height": 17
    },
    "colab_type": "code",
    "executionInfo": {
     "elapsed": 337,
     "status": "ok",
     "timestamp": 1530627851278,
     "user": {
      "displayName": "john passarelli",
      "photoUrl": "https://lh3.googleusercontent.com/a/default-user=s128",
      "userId": "102241934905781120798"
     },
     "user_tz": 240
    },
    "id": "aQdfjEWdfDOH",
    "outputId": "751008b5-156c-4bea-d599-37f84bd1b60c"
   },
   "outputs": [
    {
     "name": "stdout",
     "output_type": "stream",
     "text": [
      "Test Accuracy: 0.776\n"
     ]
    }
   ],
   "source": [
    "# your code here\n",
    "y_test_predict = model.predict(X_test)\n",
    "\n",
    "print(\"Test Accuracy: {:01.3f}\".format(accuracy_score(y_test,y_test_predict)))"
   ]
  },
  {
   "cell_type": "markdown",
   "metadata": {
    "colab_type": "text",
    "id": "jGlSHxuUqAnX"
   },
   "source": [
    "#### Print the 3 most important features<br>\n",
    "hint: sklearn has an attribute to help you find these "
   ]
  },
  {
   "cell_type": "code",
   "execution_count": 6,
   "metadata": {
    "colab": {
     "autoexec": {
      "startup": false,
      "wait_interval": 0
     },
     "base_uri": "https://localhost:8080/",
     "height": 17
    },
    "colab_type": "code",
    "executionInfo": {
     "elapsed": 448,
     "status": "ok",
     "timestamp": 1530627855691,
     "user": {
      "displayName": "john passarelli",
      "photoUrl": "https://lh3.googleusercontent.com/a/default-user=s128",
      "userId": "102241934905781120798"
     },
     "user_tz": 240
    },
    "id": "5rVekWn0qw3r",
    "outputId": "d5e516d3-4f91-4394-b2e5-f26427b404ef"
   },
   "outputs": [],
   "source": [
    "# your code here"
   ]
  },
  {
   "cell_type": "markdown",
   "metadata": {
    "colab_type": "text",
    "id": "lynu8pLDtd0S"
   },
   "source": [
    "#### Find the accuracy for random forests with 1 to 100 trees, counting by 5. Plot these accuracies"
   ]
  },
  {
   "cell_type": "code",
   "execution_count": 7,
   "metadata": {
    "colab": {
     "autoexec": {
      "startup": false,
      "wait_interval": 0
     },
     "base_uri": "https://localhost:8080/",
     "height": 17
    },
    "colab_type": "code",
    "executionInfo": {
     "elapsed": 371,
     "status": "ok",
     "timestamp": 1530627860158,
     "user": {
      "displayName": "john passarelli",
      "photoUrl": "https://lh3.googleusercontent.com/a/default-user=s128",
      "userId": "102241934905781120798"
     },
     "user_tz": 240
    },
    "id": "e2hG7npcuM7f",
    "outputId": "fb9e32ed-fb17-462e-a2f2-8db7964bb3d7"
   },
   "outputs": [],
   "source": [
    "#your code here"
   ]
  },
  {
   "cell_type": "markdown",
   "metadata": {
    "colab_type": "text",
    "id": "ZjaVPWZqVP6l"
   },
   "source": [
    "#### Plot the roc_curve using predict_proba a function for our random forest model, and metrics. roc_curve <br>\n",
    "It might help to google these functions and look at sklearn's documentation"
   ]
  },
  {
   "cell_type": "code",
   "execution_count": 8,
   "metadata": {
    "colab": {
     "autoexec": {
      "startup": false,
      "wait_interval": 0
     },
     "base_uri": "https://localhost:8080/",
     "height": 17
    },
    "colab_type": "code",
    "executionInfo": {
     "elapsed": 321,
     "status": "ok",
     "timestamp": 1530627870490,
     "user": {
      "displayName": "john passarelli",
      "photoUrl": "https://lh3.googleusercontent.com/a/default-user=s128",
      "userId": "102241934905781120798"
     },
     "user_tz": 240
    },
    "id": "REk_yvdTfDa3",
    "outputId": "f6b0f6ac-1040-4491-99be-fa178ef6c7c9"
   },
   "outputs": [],
   "source": [
    "# your code here"
   ]
  },
  {
   "cell_type": "markdown",
   "metadata": {
    "colab_type": "text",
    "id": "YAml_sdbYqIm"
   },
   "source": [
    "#### To view the trees in the random_forest you can loop through your model's '.estimators_\" attribute <br>\n",
    "If you have time look at pictures of the trees"
   ]
  },
  {
   "cell_type": "code",
   "execution_count": 9,
   "metadata": {
    "colab": {
     "autoexec": {
      "startup": false,
      "wait_interval": 0
     },
     "base_uri": "https://localhost:8080/",
     "height": 37
    },
    "colab_type": "code",
    "executionInfo": {
     "elapsed": 317,
     "status": "ok",
     "timestamp": 1530627879305,
     "user": {
      "displayName": "john passarelli",
      "photoUrl": "https://lh3.googleusercontent.com/a/default-user=s128",
      "userId": "102241934905781120798"
     },
     "user_tz": 240
    },
    "id": "k5pacJabuKXx",
    "outputId": "b28c9bfe-89e5-4ce9-9c6c-f8ed0fecd448"
   },
   "outputs": [],
   "source": [
    "# your code here"
   ]
  }
 ],
 "metadata": {
  "colab": {
   "collapsed_sections": [],
   "default_view": {},
   "name": "DecisionTreeWorksheetStudent",
   "provenance": [
    {
     "file_id": "165CSmT99w4_Sv1UENIyvIkH7ZEw2Xeh8",
     "timestamp": 1527780043079
    }
   ],
   "version": "0.3.2",
   "views": {}
  },
  "kernelspec": {
   "display_name": "Python 3",
   "language": "python",
   "name": "python3"
  },
  "language_info": {
   "codemirror_mode": {
    "name": "ipython",
    "version": 3
   },
   "file_extension": ".py",
   "mimetype": "text/x-python",
   "name": "python",
   "nbconvert_exporter": "python",
   "pygments_lexer": "ipython3",
   "version": "3.6.4"
  }
 },
 "nbformat": 4,
 "nbformat_minor": 1
}
