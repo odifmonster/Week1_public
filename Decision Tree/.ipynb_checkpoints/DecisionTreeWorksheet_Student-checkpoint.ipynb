{
 "cells": [
  {
   "cell_type": "markdown",
   "metadata": {
    "colab_type": "text",
    "id": "-UimMCmGe19F"
   },
   "source": [
    "# Decision Tree Worksheet\n"
   ]
  },
  {
   "cell_type": "code",
   "execution_count": 1,
   "metadata": {
    "colab": {
     "autoexec": {
      "startup": false,
      "wait_interval": 0
     }
    },
    "colab_type": "code",
    "id": "kedW02LgKjVL"
   },
   "outputs": [],
   "source": [
    "import numpy as np\n",
    "import pandas as pd\n",
    "from sklearn.model_selection import train_test_split\n",
    "from sklearn.tree import DecisionTreeClassifier\n",
    "from sklearn.metrics import accuracy_score\n",
    "from sklearn import tree\n",
    "from sklearn.ensemble import RandomForestClassifier\n",
    "from sklearn import metrics\n",
    "!pip install -q graphviz\n",
    "import graphviz\n",
    "import matplotlib.pyplot as plt"
   ]
  },
  {
   "cell_type": "markdown",
   "metadata": {
    "colab_type": "text",
    "id": "rz35eT5-SMht"
   },
   "source": [
    "#### Load pima indians diabetes dataset below"
   ]
  },
  {
   "cell_type": "code",
   "execution_count": 3,
   "metadata": {
    "colab": {
     "autoexec": {
      "startup": false,
      "wait_interval": 0
     }
    },
    "colab_type": "code",
    "id": "Ydh9gmDkMGmu"
   },
   "outputs": [],
   "source": [
    "url = \"https://raw.githubusercontent.com/jbrownlee/Datasets/master/pima-indians-diabetes.data.csv\"\n",
    "names = ['preg', 'plas', 'pres', 'skin', 'test', 'mass', 'pedi', 'age', 'class']\n",
    "data_frame = pd.read_csv(url,names=names)"
   ]
  },
  {
   "cell_type": "markdown",
   "metadata": {
    "colab_type": "text",
    "id": "KAFhsJIsSpMR"
   },
   "source": [
    "#### create training and testing dataset with sklearn function: train_test_split"
   ]
  },
  {
   "cell_type": "code",
   "execution_count": 4,
   "metadata": {
    "colab": {
     "autoexec": {
      "startup": false,
      "wait_interval": 0
     }
    },
    "colab_type": "code",
    "id": "fHbA28aFS2DM"
   },
   "outputs": [],
   "source": [
    "# your code here\n",
    "X = data_frame.drop(['class'],axis=1)\n",
    "y = data_fram"
   ]
  },
  {
   "cell_type": "markdown",
   "metadata": {
    "colab_type": "text",
    "id": "4_8DZinWTJRa"
   },
   "source": [
    "#### Create a model with sklearn's DecisionTreeClassifier and predict values on your test set"
   ]
  },
  {
   "cell_type": "code",
   "execution_count": 0,
   "metadata": {
    "colab": {
     "autoexec": {
      "startup": false,
      "wait_interval": 0
     }
    },
    "colab_type": "code",
    "id": "EgByCP_EhyB2"
   },
   "outputs": [],
   "source": [
    "# your code here"
   ]
  },
  {
   "cell_type": "markdown",
   "metadata": {
    "colab_type": "text",
    "id": "6HNa6fxbT6ak"
   },
   "source": [
    "#### Print the accuracy on the test data, play with the parameters and try to improve the accuracy\n",
    "hint: there is an sklearn to calculate accuracy"
   ]
  },
  {
   "cell_type": "code",
   "execution_count": 1,
   "metadata": {
    "colab": {
     "autoexec": {
      "startup": false,
      "wait_interval": 0
     },
     "base_uri": "https://localhost:8080/",
     "height": 17
    },
    "colab_type": "code",
    "executionInfo": {
     "elapsed": 287,
     "status": "ok",
     "timestamp": 1530627778885,
     "user": {
      "displayName": "john passarelli",
      "photoUrl": "https://lh3.googleusercontent.com/a/default-user=s128",
      "userId": "102241934905781120798"
     },
     "user_tz": 240
    },
    "id": "6Pbu-t_tiqnB",
    "outputId": "ef95b427-e6b4-41a7-f992-9826342b662c"
   },
   "outputs": [],
   "source": [
    "# your code here"
   ]
  },
  {
   "cell_type": "markdown",
   "metadata": {
    "colab_type": "text",
    "id": "tKdqOMBKUvGZ"
   },
   "source": [
    "#### Use graphviz to view the decision tree graph\n",
    "##### hint: want to look at a code example, see the Classification Evaluation notebook on github"
   ]
  },
  {
   "cell_type": "code",
   "execution_count": 0,
   "metadata": {
    "colab": {
     "autoexec": {
      "startup": false,
      "wait_interval": 0
     }
    },
    "colab_type": "code",
    "id": "8o55bY_jl8gj"
   },
   "outputs": [],
   "source": [
    "# your code here"
   ]
  },
  {
   "cell_type": "markdown",
   "metadata": {
    "colab_type": "text",
    "id": "4iz4meWDVmo2"
   },
   "source": [
    "#### Use the graph above to answer the questions below"
   ]
  },
  {
   "cell_type": "markdown",
   "metadata": {
    "colab_type": "text",
    "id": "K5b6COUwWTtT"
   },
   "source": [
    "Question 1: If you add up the samples from the leaf nodes, how many samples are there?"
   ]
  },
  {
   "cell_type": "markdown",
   "metadata": {
    "colab_type": "text",
    "id": "B17z-Gw5WUCW"
   },
   "source": [
    "Your answer here <br>"
   ]
  },
  {
   "cell_type": "markdown",
   "metadata": {
    "colab_type": "text",
    "id": "u1yM9h10WUEv"
   },
   "source": [
    "Question 2: What do you think X[n] represents in the nodes from the graph? <br>"
   ]
  },
  {
   "cell_type": "markdown",
   "metadata": {
    "colab_type": "text",
    "id": "BXHWUVxtWUGo"
   },
   "source": [
    "Your answer here <br>"
   ]
  },
  {
   "cell_type": "markdown",
   "metadata": {
    "colab_type": "text",
    "id": "rA7B0oTaWUIe"
   },
   "source": [
    "Question 3: What is the root feature? Does it make sense as the root feature?"
   ]
  },
  {
   "cell_type": "markdown",
   "metadata": {
    "colab_type": "text",
    "id": "fp1rz6bqWUKw"
   },
   "source": [
    "Your answer here <br>"
   ]
  },
  {
   "cell_type": "markdown",
   "metadata": {
    "colab_type": "text",
    "id": "1t559pS3ZHES"
   },
   "source": [
    "#### If you were to change the parameters to have a max_depth of 500 and min_samples_leaf of 1, what do you think the effect would be on the test accuracy? Training accuracy?"
   ]
  },
  {
   "cell_type": "markdown",
   "metadata": {
    "colab_type": "text",
    "id": "mX6-ukjxakVD"
   },
   "source": [
    "Your answer here <br>"
   ]
  },
  {
   "cell_type": "markdown",
   "metadata": {
    "colab_type": "text",
    "id": "7dnlqId2bIcR"
   },
   "source": [
    "#### Test your guesses, create a model with max_depth=500 and min_samples_leaf=1, and predict values for the training and test data <br>\n",
    "you only need to predict part of the training data"
   ]
  },
  {
   "cell_type": "code",
   "execution_count": 3,
   "metadata": {
    "colab": {
     "autoexec": {
      "startup": false,
      "wait_interval": 0
     },
     "base_uri": "https://localhost:8080/",
     "height": 17
    },
    "colab_type": "code",
    "executionInfo": {
     "elapsed": 235,
     "status": "ok",
     "timestamp": 1530627843330,
     "user": {
      "displayName": "john passarelli",
      "photoUrl": "https://lh3.googleusercontent.com/a/default-user=s128",
      "userId": "102241934905781120798"
     },
     "user_tz": 240
    },
    "id": "hnUQKX9vl9Gy",
    "outputId": "ebaa5e52-a33f-4749-a3f6-6a3fde24da1f"
   },
   "outputs": [],
   "source": [
    "# your code here"
   ]
  },
  {
   "cell_type": "markdown",
   "metadata": {
    "colab_type": "text",
    "id": "40Psyt65pD8p"
   },
   "source": [
    "# Random Forest"
   ]
  },
  {
   "cell_type": "markdown",
   "metadata": {
    "colab_type": "text",
    "id": "mjLu1MLIpGNF"
   },
   "source": [
    "#### Create a model with sklearn's RandomForestClassifier and predict values on your test set"
   ]
  },
  {
   "cell_type": "code",
   "execution_count": 4,
   "metadata": {
    "colab": {
     "autoexec": {
      "startup": false,
      "wait_interval": 0
     },
     "base_uri": "https://localhost:8080/",
     "height": 37
    },
    "colab_type": "code",
    "executionInfo": {
     "elapsed": 318,
     "status": "ok",
     "timestamp": 1530627847311,
     "user": {
      "displayName": "john passarelli",
      "photoUrl": "https://lh3.googleusercontent.com/a/default-user=s128",
      "userId": "102241934905781120798"
     },
     "user_tz": 240
    },
    "id": "TYwbpWxUfDIY",
    "outputId": "0008a18f-a9e3-4c04-b42e-adc8ce9aa966"
   },
   "outputs": [],
   "source": [
    "# your code here "
   ]
  },
  {
   "cell_type": "markdown",
   "metadata": {
    "colab_type": "text",
    "id": "6Ys_J3O4pd0u"
   },
   "source": [
    "#### Print the accuracy on the test data, play with the parameters and try to improve the accuracy<br>\n",
    "how did the accuracy compare to the decision tree's accuracy?<br>"
   ]
  },
  {
   "cell_type": "code",
   "execution_count": 5,
   "metadata": {
    "colab": {
     "autoexec": {
      "startup": false,
      "wait_interval": 0
     },
     "base_uri": "https://localhost:8080/",
     "height": 17
    },
    "colab_type": "code",
    "executionInfo": {
     "elapsed": 337,
     "status": "ok",
     "timestamp": 1530627851278,
     "user": {
      "displayName": "john passarelli",
      "photoUrl": "https://lh3.googleusercontent.com/a/default-user=s128",
      "userId": "102241934905781120798"
     },
     "user_tz": 240
    },
    "id": "aQdfjEWdfDOH",
    "outputId": "751008b5-156c-4bea-d599-37f84bd1b60c"
   },
   "outputs": [],
   "source": [
    "# your code here"
   ]
  },
  {
   "cell_type": "markdown",
   "metadata": {
    "colab_type": "text",
    "id": "jGlSHxuUqAnX"
   },
   "source": [
    "#### Print the 3 most important features<br>\n",
    "hint: sklearn has an attribute to help you find these "
   ]
  },
  {
   "cell_type": "code",
   "execution_count": 6,
   "metadata": {
    "colab": {
     "autoexec": {
      "startup": false,
      "wait_interval": 0
     },
     "base_uri": "https://localhost:8080/",
     "height": 17
    },
    "colab_type": "code",
    "executionInfo": {
     "elapsed": 448,
     "status": "ok",
     "timestamp": 1530627855691,
     "user": {
      "displayName": "john passarelli",
      "photoUrl": "https://lh3.googleusercontent.com/a/default-user=s128",
      "userId": "102241934905781120798"
     },
     "user_tz": 240
    },
    "id": "5rVekWn0qw3r",
    "outputId": "d5e516d3-4f91-4394-b2e5-f26427b404ef"
   },
   "outputs": [],
   "source": [
    "# your code here"
   ]
  },
  {
   "cell_type": "markdown",
   "metadata": {
    "colab_type": "text",
    "id": "lynu8pLDtd0S"
   },
   "source": [
    "#### Find the accuracy for random forests with 1 to 100 trees, counting by 5. Plot these accuracies"
   ]
  },
  {
   "cell_type": "code",
   "execution_count": 7,
   "metadata": {
    "colab": {
     "autoexec": {
      "startup": false,
      "wait_interval": 0
     },
     "base_uri": "https://localhost:8080/",
     "height": 17
    },
    "colab_type": "code",
    "executionInfo": {
     "elapsed": 371,
     "status": "ok",
     "timestamp": 1530627860158,
     "user": {
      "displayName": "john passarelli",
      "photoUrl": "https://lh3.googleusercontent.com/a/default-user=s128",
      "userId": "102241934905781120798"
     },
     "user_tz": 240
    },
    "id": "e2hG7npcuM7f",
    "outputId": "fb9e32ed-fb17-462e-a2f2-8db7964bb3d7"
   },
   "outputs": [],
   "source": [
    "#your code here"
   ]
  },
  {
   "cell_type": "markdown",
   "metadata": {
    "colab_type": "text",
    "id": "ZjaVPWZqVP6l"
   },
   "source": [
    "#### Plot the roc_curve using predict_proba a function for our random forest model, and metrics. roc_curve <br>\n",
    "It might help to google these functions and look at sklearn's documentation"
   ]
  },
  {
   "cell_type": "code",
   "execution_count": 8,
   "metadata": {
    "colab": {
     "autoexec": {
      "startup": false,
      "wait_interval": 0
     },
     "base_uri": "https://localhost:8080/",
     "height": 17
    },
    "colab_type": "code",
    "executionInfo": {
     "elapsed": 321,
     "status": "ok",
     "timestamp": 1530627870490,
     "user": {
      "displayName": "john passarelli",
      "photoUrl": "https://lh3.googleusercontent.com/a/default-user=s128",
      "userId": "102241934905781120798"
     },
     "user_tz": 240
    },
    "id": "REk_yvdTfDa3",
    "outputId": "f6b0f6ac-1040-4491-99be-fa178ef6c7c9"
   },
   "outputs": [],
   "source": [
    "# your code here"
   ]
  },
  {
   "cell_type": "markdown",
   "metadata": {
    "colab_type": "text",
    "id": "YAml_sdbYqIm"
   },
   "source": [
    "#### To view the trees in the random_forest you can loop through your model's '.estimators_\" attribute <br>\n",
    "If you have time look at pictures of the trees"
   ]
  },
  {
   "cell_type": "code",
   "execution_count": 9,
   "metadata": {
    "colab": {
     "autoexec": {
      "startup": false,
      "wait_interval": 0
     },
     "base_uri": "https://localhost:8080/",
     "height": 37
    },
    "colab_type": "code",
    "executionInfo": {
     "elapsed": 317,
     "status": "ok",
     "timestamp": 1530627879305,
     "user": {
      "displayName": "john passarelli",
      "photoUrl": "https://lh3.googleusercontent.com/a/default-user=s128",
      "userId": "102241934905781120798"
     },
     "user_tz": 240
    },
    "id": "k5pacJabuKXx",
    "outputId": "b28c9bfe-89e5-4ce9-9c6c-f8ed0fecd448"
   },
   "outputs": [],
   "source": [
    "# your code here"
   ]
  }
 ],
 "metadata": {
  "colab": {
   "collapsed_sections": [],
   "default_view": {},
   "name": "DecisionTreeWorksheetStudent",
   "provenance": [
    {
     "file_id": "165CSmT99w4_Sv1UENIyvIkH7ZEw2Xeh8",
     "timestamp": 1527780043079
    }
   ],
   "version": "0.3.2",
   "views": {}
  },
  "kernelspec": {
   "display_name": "Python 3",
   "language": "python",
   "name": "python3"
  },
  "language_info": {
   "codemirror_mode": {
    "name": "ipython",
    "version": 3
   },
   "file_extension": ".py",
   "mimetype": "text/x-python",
   "name": "python",
   "nbconvert_exporter": "python",
   "pygments_lexer": "ipython3",
   "version": "3.6.4"
  }
 },
 "nbformat": 4,
 "nbformat_minor": 1
}
