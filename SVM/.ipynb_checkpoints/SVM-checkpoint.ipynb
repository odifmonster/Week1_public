{
 "cells": [
  {
   "cell_type": "markdown",
   "metadata": {
    "colab_type": "text",
    "id": "cknVeYO9l871"
   },
   "source": [
    "# Support Vector Machine"
   ]
  },
  {
   "cell_type": "markdown",
   "metadata": {
    "colab_type": "text",
    "id": "q71qY1utlDUm"
   },
   "source": [
    "<ul> Supervised machine learning which is mainly used for classification but can be used for regression  </ul>\n",
    "\n",
    "<ul> Each data item is a vector point in n-dimensional space, where n is the number of features </ul>\n",
    "\n",
    "<ul> Classification is finding the hyper plane that best differentiates the two classes </ul>\n"
   ]
  },
  {
   "cell_type": "markdown",
   "metadata": {
    "colab_type": "text",
    "id": "WOaBNZvtm7vh"
   },
   "source": [
    "Below is a simple example with 2 dimension/features"
   ]
  },
  {
   "cell_type": "markdown",
   "metadata": {
    "colab_type": "text",
    "id": "YcznDcVEm74q"
   },
   "source": [
    "<img src=\"https://www.analyticsvidhya.com/wp-content/uploads/2015/10/SVM_1.png\">"
   ]
  },
  {
   "cell_type": "markdown",
   "metadata": {
    "colab_type": "text",
    "id": "3bUqmLmWZe_G"
   },
   "source": [
    "## How do you find the hyper-plane \n",
    "<li>Seperate the Data</li>\n",
    "<li>Maximize the Margin </li>"
   ]
  },
  {
   "cell_type": "markdown",
   "metadata": {
    "colab_type": "text",
    "id": "cT4M-yR5efQ1"
   },
   "source": [
    "### Discriminate the training data into appropriate classes"
   ]
  },
  {
   "cell_type": "markdown",
   "metadata": {
    "colab_type": "text",
    "id": "-5gGl1KOd3uF"
   },
   "source": [
    "<img src=\"https://github.com/BeaverWorksMedlytics/Week1/blob/master/images/svm_1.png?raw=true\">"
   ]
  },
  {
   "cell_type": "markdown",
   "metadata": {
    "colab_type": "text",
    "id": "g82XP_degjEz"
   },
   "source": [
    "####  However, just finding the  separator that best divides the classes is not sufficient as many lines divide the classes in this case <br>\n",
    "#### For instance, The red x below could be in either class depending on which line was chosen <br>\n",
    "\n",
    "<img src=\"https://github.com/BeaverWorksMedlytics/Week1/blob/master/images/svm_2.png?raw=true\">"
   ]
  },
  {
   "cell_type": "markdown",
   "metadata": {
    "colab_type": "text",
    "id": "GZNx_H6Ti2LE"
   },
   "source": [
    "### Maximize the Margin\n",
    "\n",
    "#### The line that maximizes the margin is the optimal model\n",
    "\n",
    "<img src=\"https://github.com/BeaverWorksMedlytics/Week1/blob/master/images/svm_3.png?raw=true\">"
   ]
  },
  {
   "cell_type": "markdown",
   "metadata": {
    "colab_type": "text",
    "id": "vfvZCdtTla0p"
   },
   "source": [
    "## Support Vectors\n",
    "\n",
    "#### Vectors that are on the margins are called the support vectors <br>\n",
    "#### support vectors are crucial data points for defining the model's fit <br>\n",
    "#### Other vector's do not change the fit, and the position and number of other vectors does not matter as long as they are outside the support vectors <br>\n",
    "##### This helps explain why svm's can have solid results on small datasets, if there are valuable support vectors\n",
    "\n",
    "<img src=\"https://github.com/BeaverWorksMedlytics/Week1/blob/master/images/svm_4.png?raw=true\">"
   ]
  },
  {
   "cell_type": "markdown",
   "metadata": {
    "colab_type": "text",
    "id": "cfkCa4Awn01o"
   },
   "source": [
    "## Kernels"
   ]
  },
  {
   "cell_type": "markdown",
   "metadata": {
    "colab_type": "text",
    "id": "ougllEmVzeVN"
   },
   "source": [
    "SVM's with linear discriminators are efficient and work well enough in many cases. <br>\n",
    "However, in some cases (like the data pictured below) a linear discriminator is not very effective <br>\n",
    "\n",
    "<img src=\"https://github.com/BeaverWorksMedlytics/Week1/blob/master/images/svm_5.png?raw=true\">\n"
   ]
  },
  {
   "cell_type": "markdown",
   "metadata": {
    "colab_type": "text",
    "id": "YOV8iE8B15cr"
   },
   "source": [
    "The solution is to project the data to a higher dimension <br>\n",
    "Below we see the projection computed by a radial basis function  <br>\n",
    "It is easy to see how a plane could be drawn through the data now\n",
    "\n",
    "### Radial Basis Function (RBF)\n",
    "\n",
    "<img src=\"https://github.com/BeaverWorksMedlytics/Week1/blob/master/images/svm_6.png?raw=true\">\n",
    "<br><br>\n",
    "If you want to see the math theory behind RBF, I suggest [this link]( https://stats.stackexchange.com/questions/58585/how-to-understand-effect-of-rbf-svm) . Otherwise, the relevant paramters and their effects on the algorithm are below"
   ]
  },
  {
   "cell_type": "markdown",
   "metadata": {
    "colab_type": "text",
    "id": "ZNSyN_yxx-f2"
   },
   "source": [
    "#### Gamma (paramater for RBF)\n",
    " <ul>\n",
    "  <li>SVMs are looking for a hyperplane with the largest margin and correctly divides the training data, the Gamma paramter impacts the margin </li>\n",
    "  <li>Low values of gamma mean the reach of training examples is far </li>\n",
    "  <li>High values of gamma means the reach of training examples is close</li>\n",
    "  </ul>\n",
    "\n",
    "<img src=\"https://github.com/BeaverWorksMedlytics/Week1/blob/master/images/svm_7.PNG?raw=true\">\n",
    "\n"
   ]
  },
  {
   "cell_type": "markdown",
   "metadata": {
    "colab_type": "text",
    "id": "1rGC8mJhx-tF"
   },
   "source": [
    "#### C (paramter)\n",
    " <ul>\n",
    "  <li>SVMs are looking for a hyperplane with the largest margin and correctly divides the training data, the C paramter impacts the divison of data </li>\n",
    "  <li>C with a low value creates a smooth decision boundary </li>\n",
    "  <li>C with a high values encourages a decision boundary that correctly labels all training examples even if the boundary is very specific to the training example </li>\n",
    "  </ul>\n"
   ]
  },
  {
   "cell_type": "markdown",
   "metadata": {
    "colab_type": "text",
    "id": "VSpTJFYIxK9H"
   },
   "source": [
    "### Pros\n",
    "<ul>\n",
    "  <li>Models are fast and take up small memory as it just depends on the support vectors </li>  \n",
    "  <li>Work well with limited amount of data that has a lot of attributes </li> \n",
    "</ul>\n"
   ]
  },
  {
   "cell_type": "markdown",
   "metadata": {
    "colab_type": "text",
    "id": "FudC6m1uxKt4"
   },
   "source": [
    "### Cons\n",
    "<ul>\n",
    "  <li>When large amounts of data are involved often doesn't perform as well as neural networks </li>  \n",
    "  <li>Results are very dependent on parameters, easier to tune paramters with large amounts of data</li> \n",
    "</ul>"
   ]
  }
 ],
 "metadata": {
  "colab": {
   "collapsed_sections": [],
   "default_view": {},
   "name": "SVM",
   "provenance": [
    {
     "file_id": "165CSmT99w4_Sv1UENIyvIkH7ZEw2Xeh8",
     "timestamp": 1527780043079
    }
   ],
   "version": "0.3.2",
   "views": {}
  },
  "kernelspec": {
   "display_name": "Python 3",
   "language": "python",
   "name": "python3"
  },
  "language_info": {
   "codemirror_mode": {
    "name": "ipython",
    "version": 3
   },
   "file_extension": ".py",
   "mimetype": "text/x-python",
   "name": "python",
   "nbconvert_exporter": "python",
   "pygments_lexer": "ipython3",
   "version": "3.6.4"
  }
 },
 "nbformat": 4,
 "nbformat_minor": 1
}
